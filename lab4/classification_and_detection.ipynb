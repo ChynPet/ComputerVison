{
 "cells": [
  {
   "cell_type": "code",
   "execution_count": 1,
   "metadata": {
    "collapsed": true
   },
   "outputs": [],
   "source": [
    "import cv2\n",
    "import tensorflow.keras as keras\n",
    "import matplotlib.pyplot as plt\n",
    "import numpy as np"
   ]
  },
  {
   "cell_type": "markdown",
   "source": [
    "# Зчитуємо зображення"
   ],
   "metadata": {
    "collapsed": false,
    "pycharm": {
     "name": "#%% md\n"
    }
   }
  },
  {
   "cell_type": "code",
   "execution_count": 2,
   "outputs": [],
   "source": [
    "img_rafael = cv2.imread('1.jpg')\n",
    "img_dragon = cv2.imread('2.jpg')\n",
    "img_double = cv2.imread('double.jpg')\n",
    "\n",
    "img_warp_rafael = cv2.imread('3.jpg')\n",
    "img_warp_dragon = cv2.imread('4.jpg')\n",
    "\n",
    "hT_rafael, wT_rafael, cT_rafael = img_rafael.shape\n",
    "hT_dragon, wT_dragon, cT_dragon = img_dragon.shape\n",
    "hT_double,wT_double,cT_double = img_double.shape"
   ],
   "metadata": {
    "collapsed": false,
    "pycharm": {
     "name": "#%%\n"
    }
   }
  },
  {
   "cell_type": "markdown",
   "source": [
    "# Обчислюємо ключові точки"
   ],
   "metadata": {
    "collapsed": false,
    "pycharm": {
     "name": "#%% md\n"
    }
   }
  },
  {
   "cell_type": "code",
   "execution_count": 3,
   "outputs": [],
   "source": [
    "sift = cv2.SIFT_create(nfeatures=1000)\n",
    "\n",
    "kp_rafael, des_rafael = sift.detectAndCompute(img_rafael, None)\n",
    "kp_dragon, des_dragon = sift.detectAndCompute(img_dragon, None)\n",
    "kp_double, des_double = sift.detectAndCompute(img_double, None)"
   ],
   "metadata": {
    "collapsed": false,
    "pycharm": {
     "name": "#%%\n"
    }
   }
  },
  {
   "cell_type": "markdown",
   "source": [
    "# Створюємо матчер"
   ],
   "metadata": {
    "collapsed": false,
    "pycharm": {
     "name": "#%% md\n"
    }
   }
  },
  {
   "cell_type": "code",
   "execution_count": 4,
   "outputs": [],
   "source": [
    "FLANN_INDEX_KDTREE = 1\n",
    "index_params = dict(algorithm = FLANN_INDEX_KDTREE, trees = 5)\n",
    "search_params = dict(checks = 50)\n",
    "\n",
    "flann = cv2.FlannBasedMatcher(index_params, search_params)"
   ],
   "metadata": {
    "collapsed": false,
    "pycharm": {
     "name": "#%%\n"
    }
   }
  },
  {
   "cell_type": "markdown",
   "source": [
    "# Завантажуємо модель"
   ],
   "metadata": {
    "collapsed": false,
    "pycharm": {
     "name": "#%% md\n"
    }
   }
  },
  {
   "cell_type": "code",
   "execution_count": 5,
   "outputs": [],
   "source": [
    "model = keras.models.load_model('./new_model_v_02')"
   ],
   "metadata": {
    "collapsed": false,
    "pycharm": {
     "name": "#%%\n"
    }
   }
  },
  {
   "cell_type": "code",
   "execution_count": 12,
   "outputs": [],
   "source": [
    "# вебка\n",
    "webcam = cv2.VideoCapture(0)\n",
    "# параметри для анімації\n",
    "counter = 1\n",
    "x_img = 150\n",
    "y_img = 150\n",
    "\n",
    "# розмір кадру\n",
    "frame_width = webcam.get(cv2.CAP_PROP_FRAME_WIDTH)\n",
    "frame_height = webcam.get(cv2.CAP_PROP_FRAME_HEIGHT)"
   ],
   "metadata": {
    "collapsed": false,
    "pycharm": {
     "name": "#%%\n"
    }
   }
  },
  {
   "cell_type": "markdown",
   "source": [
    "# Починаємо зчитувати кадри з вебки і записуємо їх в відео"
   ],
   "metadata": {
    "collapsed": false,
    "pycharm": {
     "name": "#%% md\n"
    }
   }
  },
  {
   "cell_type": "code",
   "execution_count": 13,
   "outputs": [],
   "source": [
    "fourcc = cv2.VideoWriter_fourcc(*'XVID')\n",
    "out_without = cv2.VideoWriter('out_without_classficator.avi', fourcc = fourcc, fps=30, frameSize=(int(frame_width),int(frame_height)))\n",
    "out_with = cv2.VideoWriter('outpy_with_classficator.avi', fourcc, 30, (int(frame_width),int(frame_height)))\n",
    "\n",
    "while True:\n",
    "\n",
    "    sucess, frame_webcam = webcam.read()\n",
    "    counter += 1\n",
    "    if sucess == False:\n",
    "        print('Error sucess')\n",
    "        break\n",
    "\n",
    "    frame_aug = frame_webcam.copy()\n",
    "    # вираховуємо ключові точки\n",
    "    kp_webcam, des_webcam = sift.detectAndCompute(frame_webcam, None)\n",
    "\n",
    "    try:\n",
    "        # шукаємо спвіпадіння\n",
    "        matches_rafael = flann.knnMatch(des_rafael, des_webcam,k=2)\n",
    "        matches_dragon = flann.knnMatch(des_dragon, des_webcam, k=2)\n",
    "        matches_double = flann.knnMatch(des_double, des_webcam, k=2)\n",
    "    except:\n",
    "        cv2.imshow('Test', frame_webcam)\n",
    "        if cv2.waitKey(1) & 0xFF == ord('q'):\n",
    "            break\n",
    "        continue\n",
    "\n",
    "    # відбираємо точки\n",
    "    good_rafael =[]\n",
    "    good_dragon = []\n",
    "    good_double = []\n",
    "\n",
    "    for m,n in matches_rafael:\n",
    "        if m.distance < 0.75*n.distance:\n",
    "            good_rafael.append(m)\n",
    "\n",
    "    for m,n in matches_dragon:\n",
    "        if m.distance < 0.75*n.distance:\n",
    "            good_dragon.append(m)\n",
    "\n",
    "    for m,n in matches_double:\n",
    "        if m.distance < 0.75*n.distance:\n",
    "            good_double.append(m)\n",
    "\n",
    "    try:\n",
    "        # класифікуємо\n",
    "        srcPts = np.float32([kp_double[m.queryIdx].pt for m in good_double]).reshape(-1, 1, 2)\n",
    "        dstPts = np.float32([kp_webcam[m.trainIdx].pt for m in good_double]).reshape(-1, 1, 2)\n",
    "        matrix, mask = cv2.findHomography(dstPts,srcPts,cv2.RANSAC,5)\n",
    "\n",
    "        imgWarp = cv2.warpPerspective(frame_webcam, matrix, (img_double.shape[1], img_double.shape[0]))\n",
    "        img_warp = cv2.resize(imgWarp, (64, 64))\n",
    "\n",
    "        t = np.argmax(model.predict(img_warp[np.newaxis]))\n",
    "    except:\n",
    "        cv2.imshow('Test', frame_webcam)\n",
    "        out_without.write(frame_webcam)\n",
    "        if cv2.waitKey(1) & 0xFF == ord('q'):\n",
    "            break\n",
    "        continue\n",
    "\n",
    "    # рафаель\n",
    "    if t == 1:\n",
    "        try:\n",
    "            srcPts = np.float32([kp_rafael[m.queryIdx].pt for m in good_rafael]).reshape(-1, 1, 2)\n",
    "            dstPts = np.float32([kp_webcam[m.trainIdx].pt for m in good_rafael]).reshape(-1, 1, 2)\n",
    "            matrix, mask = cv2.findHomography(srcPts,dstPts,cv2.RANSAC,5)\n",
    "\n",
    "            # готовимо холст\n",
    "            pts = np.float32([[0,0],[0,hT_rafael],[wT_rafael,hT_rafael],[wT_rafael,0]]).reshape(-1,1,2)\n",
    "            dst = cv2.perspectiveTransform(pts,matrix)\n",
    "\n",
    "            # готуємо нове зображення для заповнення\n",
    "            imgWarp = cv2.warpPerspective(img_warp_rafael, matrix, (frame_webcam.shape[1],frame_webcam.shape[0]))\n",
    "\n",
    "            maskNew = np.zeros((frame_webcam.shape[0],frame_webcam.shape[1]),np.uint8)\n",
    "            cv2.fillPoly(maskNew,[np.int32(dst)],(255,255,255))\n",
    "            maskInv = cv2.bitwise_not(maskNew)\n",
    "            frame_aug = cv2.bitwise_and(frame_aug, frame_aug, mask = maskInv)\n",
    "            frame_aug = cv2.bitwise_or(imgWarp,frame_aug)\n",
    "\n",
    "            # демонструємо перетворене зображення\n",
    "            cv2.imshow('Test', frame_aug)\n",
    "            out_with.write(frame_aug)\n",
    "            out_without.write(frame_webcam)\n",
    "            if cv2.waitKey(1) & 0xFF == ord('q'):\n",
    "                break\n",
    "        except:\n",
    "            cv2.imshow('Test', frame_webcam)\n",
    "            out_without.write(frame_webcam)\n",
    "            if cv2.waitKey(1) & 0xFF == ord('q'):\n",
    "                break\n",
    "            continue\n",
    "    # дракон\n",
    "    elif t == 2:\n",
    "        try:\n",
    "            srcPts = np.float32([kp_dragon[m.queryIdx].pt for m in good_dragon]).reshape(-1, 1, 2)\n",
    "            dstPts = np.float32([kp_webcam[m.trainIdx].pt for m in good_dragon]).reshape(-1, 1, 2)\n",
    "            matrix, mask = cv2.findHomography(srcPts,dstPts,cv2.RANSAC,5)\n",
    "\n",
    "            # готовимо холст\n",
    "            pts = np.float32([[0,0],[0,hT_dragon],[wT_dragon,hT_dragon],[wT_dragon,0]]).reshape(-1,1,2)\n",
    "            dst = cv2.perspectiveTransform(pts,matrix)\n",
    "\n",
    "            # готуємо нове зображення для заповнення\n",
    "            imgWarp = cv2.warpPerspective(img_warp_dragon, matrix, (frame_webcam.shape[1],frame_webcam.shape[0]))\n",
    "\n",
    "            maskNew = np.zeros((frame_webcam.shape[0],frame_webcam.shape[1]),np.uint8)\n",
    "            cv2.fillPoly(maskNew,[np.int32(dst)],(255,255,255))\n",
    "            maskInv = cv2.bitwise_not(maskNew)\n",
    "            frame_aug = cv2.bitwise_and(frame_aug, frame_aug, mask = maskInv)\n",
    "            frame_aug = cv2.bitwise_or(imgWarp,frame_aug)\n",
    "\n",
    "            # демонструємо перетворене зображення\n",
    "            cv2.imshow('Test', frame_aug)\n",
    "            out_with.write(frame_aug)\n",
    "            out_without.write(frame_webcam)\n",
    "            if cv2.waitKey(1) & 0xFF == ord('q'):\n",
    "                break\n",
    "        except:\n",
    "            cv2.imshow('Test', frame_webcam)\n",
    "            out_without.write(frame_webcam)\n",
    "            if cv2.waitKey(1) & 0xFF == ord('q'):\n",
    "                break\n",
    "            continue\n",
    "    # перетин зображень\n",
    "    elif t == 3:\n",
    "        try:\n",
    "            if counter <= 16:\n",
    "                img_name = f'gif/frame-{counter}.gif'\n",
    "                img = cv2.VideoCapture(img_name)\n",
    "                _, img = img.read()\n",
    "                img_height, img_width, _ = img.shape\n",
    "                frame_aug[ y_img:y_img+img_height , x_img:x_img+img_width ] = img\n",
    "            else:\n",
    "                counter = 1\n",
    "\n",
    "            # демонструємо перетворене зображення\n",
    "            cv2.imshow('Test', frame_aug)\n",
    "            out_with.write(frame_aug)\n",
    "            out_without.write(frame_webcam)\n",
    "            if cv2.waitKey(1) & 0xFF == ord('q'):\n",
    "                break\n",
    "        except:\n",
    "            cv2.imshow('Test', frame_webcam)\n",
    "            out_without.write(frame_webcam)\n",
    "            if cv2.waitKey(1) & 0xFF == ord('q'):\n",
    "                break\n",
    "            continue\n",
    "    else:\n",
    "        cv2.imshow('Test', frame_webcam)\n",
    "        out_with.write(frame_aug)\n",
    "        out_without.write(frame_webcam)\n",
    "        if cv2.waitKey(1) & 0xFF == ord('q'):\n",
    "            break\n"
   ],
   "metadata": {
    "collapsed": false,
    "pycharm": {
     "name": "#%%\n"
    }
   }
  },
  {
   "cell_type": "code",
   "execution_count": 14,
   "outputs": [],
   "source": [
    "webcam.release()\n",
    "out_without.release()\n",
    "out_with.release()\n",
    "cv2.destroyAllWindows()"
   ],
   "metadata": {
    "collapsed": false,
    "pycharm": {
     "name": "#%%\n"
    }
   }
  },
  {
   "cell_type": "code",
   "execution_count": null,
   "outputs": [],
   "source": [],
   "metadata": {
    "collapsed": false,
    "pycharm": {
     "name": "#%%\n"
    }
   }
  }
 ],
 "metadata": {
  "kernelspec": {
   "display_name": "Python 3",
   "language": "python",
   "name": "python3"
  },
  "language_info": {
   "codemirror_mode": {
    "name": "ipython",
    "version": 2
   },
   "file_extension": ".py",
   "mimetype": "text/x-python",
   "name": "python",
   "nbconvert_exporter": "python",
   "pygments_lexer": "ipython2",
   "version": "2.7.6"
  }
 },
 "nbformat": 4,
 "nbformat_minor": 0
}