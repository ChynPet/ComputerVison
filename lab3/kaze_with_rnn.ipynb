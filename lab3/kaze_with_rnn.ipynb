{
 "cells": [
  {
   "cell_type": "code",
   "execution_count": null,
   "outputs": [],
   "source": [
    "import cv2\n",
    "import numpy as np\n",
    "import matplotlib.pyplot as plt\n",
    "import seaborn as sn\n",
    "import pandas as pd\n",
    "from sklearn.model_selection import train_test_split\n",
    "from sklearn.metrics import recall_score, precision_score, f1_score, accuracy_score, confusion_matrix\n",
    "from sklearn.svm import SVC\n",
    "from sklearn.tree import DecisionTreeClassifier\n",
    "from sklearn.cluster import KMeans\n",
    "import tensorflow.keras as keras\n",
    "import csv"
   ],
   "metadata": {
    "collapsed": false,
    "pycharm": {
     "name": "#%%\n"
    }
   }
  },
  {
   "cell_type": "code",
   "execution_count": null,
   "outputs": [],
   "source": [
    "X_scr_pin = []\n",
    "Y_scr_pin = []\n",
    "\n",
    "X_scr_ban = []\n",
    "Y_scr_ban = []\n",
    "\n",
    "X_pin_ban = []\n",
    "Y_pin_ban = []\n",
    "\n",
    "with open('./scorpions_pinginus.csv', newline='') as csfile:\n",
    "    spamreader = csv.reader(csfile, delimiter=' ', quotechar='|')\n",
    "    for row in spamreader:\n",
    "        X_scr_pin.append(row[0])\n",
    "        Y_scr_pin.append(int(row[1]))\n",
    "\n",
    "with open('./scorpions_bananka.csv', newline='') as csfile:\n",
    "    spamreader = csv.reader(csfile, delimiter=' ', quotechar='|')\n",
    "    for row in spamreader:\n",
    "        X_scr_ban.append(row[0])\n",
    "        Y_scr_ban.append(int(row[1]))\n",
    "\n",
    "with open('./pinginus_bananka.csv', newline='') as csfile:\n",
    "    spamreader = csv.reader(csfile, delimiter=' ', quotechar='|')\n",
    "    for row in spamreader:\n",
    "        X_pin_ban.append(row[0])\n",
    "        Y_pin_ban.append(int(row[1]))"
   ],
   "metadata": {
    "collapsed": false,
    "pycharm": {
     "name": "#%%\n"
    }
   }
  },
  {
   "cell_type": "code",
   "execution_count": null,
   "outputs": [],
   "source": [
    "X_train_scr_pin, X_test_scr_pin, Y_train_scr_pin, Y_test_scr_pin = train_test_split(X_scr_pin, Y_scr_pin, test_size=0.2)\n",
    "\n",
    "X_train_scr_ban, X_test_scr_ban, Y_train_scr_ban, Y_test_scr_ban = train_test_split(X_scr_ban, Y_scr_ban, test_size=0.2)\n",
    "\n",
    "X_train_pin_ban, X_test_pin_ban, Y_train_pin_ban, Y_test_pin_ban = train_test_split(X_pin_ban, Y_pin_ban, test_size=0.2)"
   ],
   "metadata": {
    "collapsed": false,
    "pycharm": {
     "name": "#%%\n"
    }
   }
  },
  {
   "cell_type": "code",
   "execution_count": null,
   "outputs": [],
   "source": [
    "def compute_data(X, n=8):\n",
    "\n",
    "    kaze = cv2.KAZE_create()\n",
    "    m = len(X)\n",
    "    X_res = np.zeros((m,n))\n",
    "    i = 0\n",
    "    for x in X:\n",
    "        img = cv2.imread(x, 0)\n",
    "        img = cv2.resize(img, (128, 128))\n",
    "        kp, des = kaze.detectAndCompute(img, None)\n",
    "\n",
    "        pt = [i.pt for i in kp]\n",
    "        pt_arr = np.array(pt)\n",
    "        if pt_arr.shape[0] < n:\n",
    "            if len(pt) != 0:\n",
    "                for j in range(pt_arr.shape[0]):\n",
    "                    X_res[i,j] = 1 / pt_arr.shape[0]\n",
    "        else:\n",
    "            kmeans = KMeans(n_clusters=n, random_state=0).fit(pt_arr)\n",
    "            list_masks = [ kmeans.labels_ == i for i in range(n)]\n",
    "\n",
    "            j = 0\n",
    "            for mask in list_masks:\n",
    "                pt_mask = np.round(pt_arr[mask,:], 0).astype(np.int)\n",
    "                hist = np.sum(img[pt_mask[:,0], pt_mask[:,1]]) / np.sum(mask)\n",
    "                X_res[i,j] = hist\n",
    "                j += 1\n",
    "        i += 1\n",
    "\n",
    "    return X_res"
   ],
   "metadata": {
    "collapsed": false,
    "pycharm": {
     "name": "#%%\n"
    }
   }
  },
  {
   "cell_type": "code",
   "execution_count": null,
   "outputs": [],
   "source": [
    "train_scr_pin = compute_data(X_train_scr_pin)\n",
    "train_scr_ban = compute_data(X_train_scr_ban)\n",
    "train_pin_ban = compute_data(X_train_pin_ban)\n",
    "\n",
    "y_train_scr_pin = np.zeros((train_scr_pin.shape[0], 2))\n",
    "y_train_scr_ban = np.zeros((train_scr_ban.shape[0], 2))\n",
    "y_train_pin_ban = np.zeros((train_pin_ban.shape[0], 2))\n",
    "\n",
    "for i in range(train_scr_pin.shape[0]):\n",
    "    y_train_scr_pin[i, Y_train_scr_pin[i]] = 1\n",
    "\n",
    "for i in range(train_scr_ban.shape[0]):\n",
    "    y_train_scr_ban[i, Y_train_scr_ban[i]] = 1\n",
    "\n",
    "for i in range(train_pin_ban.shape[0]):\n",
    "    y_train_pin_ban[i, Y_train_pin_ban[i]] = 1\n",
    "\n",
    "test_scr_pin = compute_data(X_test_scr_pin)\n",
    "test_scr_ban = compute_data(X_test_scr_ban)\n",
    "test_pin_ban = compute_data(X_test_pin_ban)\n",
    "\n",
    "y_test_scr_pin = np.array(Y_test_scr_pin)\n",
    "y_test_scr_ban = np.array(Y_test_scr_ban)\n",
    "y_test_pin_ban = np.array(Y_test_pin_ban)"
   ],
   "metadata": {
    "collapsed": false,
    "pycharm": {
     "name": "#%%\n"
    }
   }
  },
  {
   "cell_type": "markdown",
   "source": [
    "# LSTM"
   ],
   "metadata": {
    "collapsed": false
   }
  },
  {
   "cell_type": "code",
   "execution_count": null,
   "outputs": [],
   "source": [
    "def model(n=8):\n",
    "    key_points = keras.layers.Input(shape=(1,n), dtype='float32')\n",
    "    X = keras.layers.BatchNormalization()(key_points)\n",
    "    X = keras.layers.LSTM(512, return_sequences=True)(X)\n",
    "    X = keras.layers.Dropout(rate=0.5)(X)\n",
    "    X = keras.layers.LSTM(512, return_sequences=True)(X)\n",
    "    X = keras.layers.Dropout(rate=0.5)(X)\n",
    "    X = keras.layers.LSTM(512, return_sequences=False)(X)\n",
    "    X = keras.layers.Dropout(rate=0.5)(X)\n",
    "    X = keras.layers.Dense(units=2)(X)\n",
    "    X = keras.layers.Activation(activation='softmax')(X)\n",
    "\n",
    "    model = keras.Model(inputs=key_points, outputs=X)\n",
    "\n",
    "    return model"
   ],
   "metadata": {
    "collapsed": false,
    "pycharm": {
     "name": "#%%\n"
    }
   }
  },
  {
   "cell_type": "code",
   "execution_count": null,
   "outputs": [],
   "source": [
    "example = model(n=8)\n",
    "example.summary()"
   ],
   "metadata": {
    "collapsed": false,
    "pycharm": {
     "name": "#%%\n"
    }
   }
  },
  {
   "cell_type": "code",
   "execution_count": null,
   "outputs": [],
   "source": [
    "model_scr_pin = model()\n",
    "model_scr_ban = model()\n",
    "model_pin_ban = model()"
   ],
   "metadata": {
    "collapsed": false,
    "pycharm": {
     "name": "#%%\n"
    }
   }
  },
  {
   "cell_type": "code",
   "execution_count": null,
   "outputs": [],
   "source": [
    "model_scr_pin.compile(loss='categorical_crossentropy', optimizer='adam', metrics=['accuracy'])\n",
    "model_scr_ban.compile(loss='categorical_crossentropy', optimizer='adam', metrics=['accuracy'])\n",
    "model_pin_ban.compile(loss='categorical_crossentropy', optimizer='adam', metrics=['accuracy'])"
   ],
   "metadata": {
    "collapsed": false,
    "pycharm": {
     "name": "#%%\n"
    }
   }
  },
  {
   "cell_type": "code",
   "execution_count": null,
   "outputs": [],
   "source": [
    "X_train_scr_pin_arr = train_scr_pin[:, np.newaxis, :]\n",
    "X_train_scr_ban_arr = train_scr_ban[:, np.newaxis, :]\n",
    "X_train_pin_ban_arr = train_pin_ban[:, np.newaxis, :]\n",
    "\n",
    "\n",
    "X_test_scr_pin_arr = test_scr_pin[:,np.newaxis, :]\n",
    "X_test_scr_ban_arr = test_scr_ban[:,np.newaxis, :]\n",
    "X_test_pin_ban_arr = test_pin_ban[:,np.newaxis, :]"
   ],
   "metadata": {
    "collapsed": false,
    "pycharm": {
     "name": "#%%\n"
    }
   }
  },
  {
   "cell_type": "code",
   "execution_count": null,
   "outputs": [],
   "source": [
    "model_scr_pin.fit(X_train_scr_pin_arr, y_train_scr_pin, epochs=52, batch_size=32, shuffle=True)"
   ],
   "metadata": {
    "collapsed": false,
    "pycharm": {
     "name": "#%%\n"
    }
   }
  },
  {
   "cell_type": "code",
   "execution_count": null,
   "outputs": [],
   "source": [
    "model_scr_ban.fit(X_train_scr_ban_arr, y_train_scr_ban, epochs=52, batch_size=32, shuffle=True)"
   ],
   "metadata": {
    "collapsed": false,
    "pycharm": {
     "name": "#%%\n"
    }
   }
  },
  {
   "cell_type": "code",
   "execution_count": null,
   "outputs": [],
   "source": [
    "model_pin_ban.fit(X_train_pin_ban_arr, y_train_pin_ban, epochs=52, batch_size=32, shuffle=True)"
   ],
   "metadata": {
    "collapsed": false,
    "pycharm": {
     "name": "#%%\n"
    }
   }
  },
  {
   "cell_type": "code",
   "execution_count": null,
   "outputs": [],
   "source": [
    "y_pred_scr_pin = model_scr_pin.predict(X_test_scr_pin_arr)\n",
    "y_pred_scr_pin_target = np.argmax(y_pred_scr_pin, axis=1)\n",
    "\n",
    "y_pred_scr_ban = model_scr_ban.predict(X_test_scr_ban_arr)\n",
    "y_pred_scr_ban_target = np.argmax(y_pred_scr_ban, axis=1)\n",
    "\n",
    "y_pred_pin_ban = model_pin_ban.predict(X_test_pin_ban_arr)\n",
    "y_pred_pin_ban_target = np.argmax(y_pred_pin_ban, axis=1)"
   ],
   "metadata": {
    "collapsed": false,
    "pycharm": {
     "name": "#%%\n"
    }
   }
  },
  {
   "cell_type": "code",
   "execution_count": null,
   "outputs": [],
   "source": [
    "accuracy_scr_pin = recall_score(y_test_scr_pin, y_pred_scr_pin_target)\n",
    "accuracy_scr_ban = recall_score(y_test_scr_ban, y_pred_scr_ban_target)\n",
    "accuracy_pin_ban = recall_score(y_test_pin_ban, y_pred_pin_ban_target)\n",
    "\n",
    "recall_scr_pin = recall_score(y_test_scr_pin, y_pred_scr_pin_target)\n",
    "recall_scr_ban = recall_score(y_test_scr_ban, y_pred_scr_ban_target)\n",
    "recall_pin_ban = recall_score(y_test_pin_ban, y_pred_pin_ban_target)\n",
    "\n",
    "precision_scr_pin = precision_score(y_test_scr_pin, y_pred_scr_pin_target)\n",
    "precision_scr_ban = precision_score(y_test_scr_ban, y_pred_scr_ban_target)\n",
    "precision_pin_ban = precision_score(y_test_pin_ban, y_pred_pin_ban_target)\n",
    "\n",
    "f1_scr_pin = f1_score(y_test_scr_pin, y_pred_scr_pin_target)\n",
    "f1_scr_ban = f1_score(y_test_scr_ban, y_pred_scr_ban_target)\n",
    "f1_pin_ban = f1_score(y_test_pin_ban, y_pred_pin_ban_target)\n",
    "\n",
    "confusion_matrix_scr_pin = pd.DataFrame(confusion_matrix(y_test_scr_pin, y_pred_scr_pin_target))\n",
    "confusion_matrix_scr_ban = pd.DataFrame(confusion_matrix(y_test_scr_ban, y_pred_scr_ban_target))\n",
    "confusion_matrix_pin_ban = pd.DataFrame(confusion_matrix(y_test_pin_ban, y_pred_pin_ban_target))"
   ],
   "metadata": {
    "collapsed": false,
    "pycharm": {
     "name": "#%%\n"
    }
   }
  },
  {
   "cell_type": "code",
   "execution_count": null,
   "outputs": [],
   "source": [
    "print('Scorpions Pinginus')\n",
    "print(f'accuracy: {accuracy_scr_pin}')\n",
    "print(f'recall: {recall_scr_pin}')\n",
    "print(f'precission: {precision_scr_pin}')\n",
    "print(f'f1: {f1_scr_pin}')\n",
    "\n",
    "sn.set(font_scale=1.4)\n",
    "sn.heatmap(confusion_matrix_scr_pin, annot=True, annot_kws={'size': 16})\n"
   ],
   "metadata": {
    "collapsed": false,
    "pycharm": {
     "name": "#%%\n"
    }
   }
  },
  {
   "cell_type": "code",
   "execution_count": null,
   "outputs": [],
   "source": [
    "print('Scorpions Bananka')\n",
    "print(f'accuracy: {accuracy_scr_ban}')\n",
    "print(f'recall: {recall_scr_ban}')\n",
    "print(f'precission: {precision_scr_ban}')\n",
    "print(f'f1: {f1_scr_ban}')\n",
    "\n",
    "sn.set(font_scale=1.4)\n",
    "sn.heatmap(confusion_matrix_scr_ban, annot=True, annot_kws={'size': 16})"
   ],
   "metadata": {
    "collapsed": false,
    "pycharm": {
     "name": "#%%\n"
    }
   }
  },
  {
   "cell_type": "code",
   "execution_count": null,
   "outputs": [],
   "source": [
    "print('Pinginus Bananka')\n",
    "print(f'accuracy: {accuracy_pin_ban}')\n",
    "print(f'recall: {recall_pin_ban}')\n",
    "print(f'precission: {precision_pin_ban}')\n",
    "print(f'f1: {f1_pin_ban}')\n",
    "\n",
    "sn.set(font_scale=1.4)\n",
    "sn.heatmap(confusion_matrix_pin_ban, annot=True, annot_kws={'size': 16})"
   ],
   "metadata": {
    "collapsed": false,
    "pycharm": {
     "name": "#%%\n"
    }
   }
  },
  {
   "cell_type": "code",
   "execution_count": null,
   "outputs": [],
   "source": [
    "def compute_hist(frame, n=8):\n",
    "    kaze = cv2.KAZE_create()\n",
    "    m = 1\n",
    "    X_res = np.zeros((m,n))\n",
    "\n",
    "    img = cv2.resize(cv2.cvtColor(frame, cv2.COLOR_BGR2GRAY), (128, 128))\n",
    "    kp, des = kaze.detectAndCompute(img, None)\n",
    "\n",
    "    pt = [i.pt for i in kp]\n",
    "    pt_arr = np.array(pt)\n",
    "\n",
    "    if pt_arr.shape[0] < n:\n",
    "        if len(pt) != 0:\n",
    "            for j in range(pt_arr.shape[0]):\n",
    "                X_res[0,j] = 1 / pt_arr.shape[0]\n",
    "    else:\n",
    "        kmeans = KMeans(n_clusters=n, random_state=0).fit(pt_arr)\n",
    "        list_masks = [ kmeans.labels_ == i for i in range(n)]\n",
    "\n",
    "        j = 0\n",
    "        for mask in list_masks:\n",
    "            pt_mask = np.round(pt_arr[mask,:], 0).astype(np.int)\n",
    "            hist = np.sum(img[pt_mask[:,0], pt_mask[:,1]]) / np.sum(mask)\n",
    "            X_res[0,j] = hist\n",
    "            j += 1\n",
    "\n",
    "    return X_res"
   ],
   "metadata": {
    "collapsed": false,
    "pycharm": {
     "name": "#%%\n"
    }
   }
  },
  {
   "cell_type": "code",
   "execution_count": null,
   "outputs": [],
   "source": [
    "cap = cv2.VideoCapture('test.mp4')\n",
    "\n",
    "if (cap.isOpened() == False):\n",
    "    print(\"Unable to read camera feed\")\n",
    "\n",
    "frame_width = int(cap.get(4))\n",
    "frame_height = int(cap.get(3))\n",
    "\n",
    "out = cv2.VideoWriter('scor_pin.avi',cv2.VideoWriter_fourcc('M','J','P','G'), 10, (frame_width,frame_height))\n",
    "\n",
    "while(True):\n",
    "    ret, frame = cap.read()\n",
    "\n",
    "    if ret == True:\n",
    "        frame = cv2.rotate(frame, cv2.ROTATE_90_CLOCKWISE)\n",
    "        X = compute_hist(frame)[np.newaxis, :, :]\n",
    "        class_object = np.argmax(model_scr_pin.predict(X))\n",
    "        position = (25, 350)\n",
    "        cv2.putText(frame, 'Class ' + str(class_object), position, cv2.FONT_HERSHEY_SIMPLEX, 2, (209, 80, 0, 255), 3)\n",
    "        out.write(frame)\n",
    "\n",
    "    else:\n",
    "        break\n",
    "\n",
    "cap.release()\n",
    "out.release()\n",
    "\n",
    "cv2.destroyAllWindows()"
   ],
   "metadata": {
    "collapsed": false,
    "pycharm": {
     "name": "#%%\n"
    }
   }
  },
  {
   "cell_type": "code",
   "execution_count": null,
   "outputs": [],
   "source": [
    "cap = cv2.VideoCapture('test.mp4')\n",
    "\n",
    "if (cap.isOpened() == False):\n",
    "    print(\"Unable to read camera feed\")\n",
    "\n",
    "frame_width = int(cap.get(4))\n",
    "frame_height = int(cap.get(3))\n",
    "\n",
    "out = cv2.VideoWriter('scor_ban.avi',cv2.VideoWriter_fourcc('M','J','P','G'), 10, (frame_width,frame_height))\n",
    "\n",
    "while(True):\n",
    "    ret, frame = cap.read()\n",
    "\n",
    "    if ret == True:\n",
    "        frame = cv2.rotate(frame, cv2.ROTATE_90_CLOCKWISE)\n",
    "        X = compute_hist(frame)[np.newaxis, :, :]\n",
    "        class_object = np.argmax(model_scr_ban.predict(X))\n",
    "        position = (25, 350)\n",
    "        cv2.putText(frame, 'Class ' + str(class_object), position, cv2.FONT_HERSHEY_SIMPLEX, 2, (209, 80, 0, 255), 3)\n",
    "        out.write(frame)\n",
    "\n",
    "    else:\n",
    "        break\n",
    "\n",
    "cap.release()\n",
    "out.release()\n",
    "\n",
    "cv2.destroyAllWindows()"
   ],
   "metadata": {
    "collapsed": false,
    "pycharm": {
     "name": "#%%\n"
    }
   }
  },
  {
   "cell_type": "code",
   "execution_count": null,
   "outputs": [],
   "source": [
    "model_scr_pin.save('./model_scr_pin')"
   ],
   "metadata": {
    "collapsed": false,
    "pycharm": {
     "name": "#%%\n"
    }
   }
  },
  {
   "cell_type": "code",
   "execution_count": null,
   "outputs": [],
   "source": [
    "model_scr_ban.save('./model_scr_ban')"
   ],
   "metadata": {
    "collapsed": false,
    "pycharm": {
     "name": "#%%\n"
    }
   }
  },
  {
   "cell_type": "code",
   "execution_count": null,
   "outputs": [],
   "source": [
    "model_pin_ban.save('./model_pin_ban')"
   ],
   "metadata": {
    "collapsed": false,
    "pycharm": {
     "name": "#%%\n"
    }
   }
  },
  {
   "cell_type": "markdown",
   "source": [
    "# SVM"
   ],
   "metadata": {
    "collapsed": false
   }
  },
  {
   "cell_type": "code",
   "execution_count": null,
   "outputs": [],
   "source": [
    "target_train_scr_pin = np.array(Y_train_scr_pin)\n",
    "target_train_scr_ban = np.array(Y_train_scr_ban)\n",
    "target_train_pin_ban = np.array(Y_train_pin_ban)"
   ],
   "metadata": {
    "collapsed": false,
    "pycharm": {
     "name": "#%%\n"
    }
   }
  },
  {
   "cell_type": "code",
   "execution_count": null,
   "outputs": [],
   "source": [
    "svc_scr_pin = SVC(kernel='sigmoid', coef0=10**-6, C=1, gamma='auto')\n",
    "svc_scr_ban = SVC(kernel='sigmoid', coef0=10**-6, C=1, gamma='auto')\n",
    "svc_pin_ban = SVC(kernel='sigmoid', coef0=10**-6, C=1, gamma='auto')\n",
    "\n",
    "svc_scr_pin.fit(train_scr_pin, target_train_scr_pin)\n",
    "svc_scr_ban.fit(train_scr_ban, target_train_scr_ban)\n",
    "svc_pin_ban.fit(train_pin_ban, target_train_pin_ban)"
   ],
   "metadata": {
    "collapsed": false,
    "pycharm": {
     "name": "#%%\n"
    }
   }
  },
  {
   "cell_type": "code",
   "execution_count": null,
   "outputs": [],
   "source": [
    "y_pred_scr_pin = svc_scr_pin.predict(test_scr_pin)\n",
    "\n",
    "y_pred_scr_ban = svc_scr_ban.predict(test_scr_ban)\n",
    "\n",
    "y_pred_pin_ban = svc_pin_ban.predict(test_pin_ban)"
   ],
   "metadata": {
    "collapsed": false,
    "pycharm": {
     "name": "#%%\n"
    }
   }
  },
  {
   "cell_type": "code",
   "execution_count": null,
   "outputs": [],
   "source": [
    "accuracy_scr_pin = recall_score(y_test_scr_pin, y_pred_scr_pin)\n",
    "accuracy_scr_ban = recall_score(y_test_scr_ban, y_pred_scr_ban)\n",
    "accuracy_pin_ban = recall_score(y_test_pin_ban, y_pred_pin_ban)\n",
    "\n",
    "recall_scr_pin = recall_score(y_test_scr_pin, y_pred_scr_pin)\n",
    "recall_scr_ban = recall_score(y_test_scr_ban, y_pred_scr_ban)\n",
    "recall_pin_ban = recall_score(y_test_pin_ban, y_pred_pin_ban)\n",
    "\n",
    "precision_scr_pin = precision_score(y_test_scr_pin, y_pred_scr_pin)\n",
    "precision_scr_ban = precision_score(y_test_scr_ban, y_pred_scr_ban)\n",
    "precision_pin_ban = precision_score(y_test_pin_ban, y_pred_pin_ban)\n",
    "\n",
    "f1_scr_pin = f1_score(y_test_scr_pin, y_pred_scr_pin)\n",
    "f1_scr_ban = f1_score(y_test_scr_ban, y_pred_scr_ban)\n",
    "f1_pin_ban = f1_score(y_test_pin_ban, y_pred_pin_ban)\n",
    "\n",
    "confusion_matrix_scr_pin = pd.DataFrame(confusion_matrix(y_test_scr_pin, y_pred_scr_pin))\n",
    "confusion_matrix_scr_ban = pd.DataFrame(confusion_matrix(y_test_scr_ban, y_pred_scr_ban))\n",
    "confusion_matrix_pin_ban = pd.DataFrame(confusion_matrix(y_test_pin_ban, y_pred_pin_ban))"
   ],
   "metadata": {
    "collapsed": false,
    "pycharm": {
     "name": "#%%\n"
    }
   }
  },
  {
   "cell_type": "code",
   "execution_count": null,
   "outputs": [],
   "source": [
    "print('Scorpions Pinginus')\n",
    "print(f'accuracy: {accuracy_scr_pin}')\n",
    "print(f'recall: {recall_scr_pin}')\n",
    "print(f'precission: {precision_scr_pin}')\n",
    "print(f'f1: {f1_scr_pin}')\n",
    "\n",
    "sn.set(font_scale=1.4)\n",
    "sn.heatmap(confusion_matrix_scr_pin, annot=True, annot_kws={'size': 16})\n"
   ],
   "metadata": {
    "collapsed": false,
    "pycharm": {
     "name": "#%%\n"
    }
   }
  },
  {
   "cell_type": "code",
   "execution_count": null,
   "outputs": [],
   "source": [
    "print('Scorpions Bananka')\n",
    "print(f'accuracy: {accuracy_scr_ban}')\n",
    "print(f'recall: {recall_scr_ban}')\n",
    "print(f'precission: {precision_scr_ban}')\n",
    "print(f'f1: {f1_scr_ban}')\n",
    "\n",
    "sn.set(font_scale=1.4)\n",
    "sn.heatmap(confusion_matrix_scr_ban, annot=True, annot_kws={'size': 16})"
   ],
   "metadata": {
    "collapsed": false,
    "pycharm": {
     "name": "#%%\n"
    }
   }
  },
  {
   "cell_type": "code",
   "execution_count": null,
   "outputs": [],
   "source": [
    "print('Pinginus Bananka')\n",
    "print(f'accuracy: {accuracy_pin_ban}')\n",
    "print(f'recall: {recall_pin_ban}')\n",
    "print(f'precission: {precision_pin_ban}')\n",
    "print(f'f1: {f1_pin_ban}')\n",
    "\n",
    "sn.set(font_scale=1.4)\n",
    "sn.heatmap(confusion_matrix_pin_ban, annot=True, annot_kws={'size': 16})"
   ],
   "metadata": {
    "collapsed": false,
    "pycharm": {
     "name": "#%%\n"
    }
   }
  },
  {
   "cell_type": "code",
   "execution_count": null,
   "outputs": [],
   "source": [
    "cap = cv2.VideoCapture('test.mp4')\n",
    "\n",
    "if (cap.isOpened() == False):\n",
    "    print(\"Unable to read camera feed\")\n",
    "\n",
    "frame_width = int(cap.get(4))\n",
    "frame_height = int(cap.get(3))\n",
    "\n",
    "out = cv2.VideoWriter('scor_pin_svm.avi',cv2.VideoWriter_fourcc('M','J','P','G'), 10, (frame_width,frame_height))\n",
    "\n",
    "while(True):\n",
    "    ret, frame = cap.read()\n",
    "\n",
    "    if ret == True:\n",
    "        frame = cv2.rotate(frame, cv2.ROTATE_90_CLOCKWISE)\n",
    "        X = compute_hist(frame)\n",
    "        class_object = svc_scr_pin.predict(X)\n",
    "        position = (25, 350)\n",
    "        cv2.putText(frame, 'Class ' + str(class_object), position, cv2.FONT_HERSHEY_SIMPLEX, 2, (209, 80, 0, 255), 3)\n",
    "        out.write(frame)\n",
    "\n",
    "    else:\n",
    "        break\n",
    "\n",
    "cap.release()\n",
    "out.release()\n",
    "\n",
    "cv2.destroyAllWindows()"
   ],
   "metadata": {
    "collapsed": false,
    "pycharm": {
     "name": "#%%\n"
    }
   }
  },
  {
   "cell_type": "code",
   "execution_count": null,
   "outputs": [],
   "source": [
    "cap = cv2.VideoCapture('test.mp4')\n",
    "\n",
    "if (cap.isOpened() == False):\n",
    "    print(\"Unable to read camera feed\")\n",
    "\n",
    "frame_width = int(cap.get(4))\n",
    "frame_height = int(cap.get(3))\n",
    "\n",
    "out = cv2.VideoWriter('scor_ban_svm.avi',cv2.VideoWriter_fourcc('M','J','P','G'), 10, (frame_width,frame_height))\n",
    "\n",
    "while(True):\n",
    "    ret, frame = cap.read()\n",
    "\n",
    "    if ret == True:\n",
    "        frame = cv2.rotate(frame, cv2.ROTATE_90_CLOCKWISE)\n",
    "        X = compute_hist(frame)\n",
    "        class_object = svc_scr_ban.predict(X)\n",
    "        position = (25, 350)\n",
    "        cv2.putText(frame, 'Class ' + str(class_object), position, cv2.FONT_HERSHEY_SIMPLEX, 2, (209, 80, 0, 255), 3)\n",
    "        out.write(frame)\n",
    "\n",
    "    else:\n",
    "        break\n",
    "\n",
    "cap.release()\n",
    "out.release()\n",
    "\n",
    "cv2.destroyAllWindows()"
   ],
   "metadata": {
    "collapsed": false,
    "pycharm": {
     "name": "#%%\n"
    }
   }
  },
  {
   "cell_type": "markdown",
   "source": [
    "# DecissionTree"
   ],
   "metadata": {
    "collapsed": false
   }
  },
  {
   "cell_type": "code",
   "execution_count": null,
   "outputs": [],
   "source": [
    "target_train_scr_pin = np.array(Y_train_scr_pin)\n",
    "target_train_scr_ban = np.array(Y_train_scr_ban)\n",
    "target_train_pin_ban = np.array(Y_train_pin_ban)"
   ],
   "metadata": {
    "collapsed": false,
    "pycharm": {
     "name": "#%%\n"
    }
   }
  },
  {
   "cell_type": "code",
   "execution_count": null,
   "outputs": [],
   "source": [
    "tree_scr_pin = DecisionTreeClassifier()\n",
    "tree_scr_ban = DecisionTreeClassifier()\n",
    "tree_pin_ban = DecisionTreeClassifier()\n",
    "\n",
    "tree_scr_pin.fit(train_scr_pin, target_train_scr_pin)\n",
    "tree_scr_ban.fit(train_scr_ban, target_train_scr_ban)\n",
    "tree_pin_ban.fit(train_pin_ban, target_train_pin_ban)"
   ],
   "metadata": {
    "collapsed": false,
    "pycharm": {
     "name": "#%%\n"
    }
   }
  },
  {
   "cell_type": "code",
   "execution_count": null,
   "outputs": [],
   "source": [
    "y_pred_scr_pin = tree_scr_pin.predict(test_scr_pin)\n",
    "\n",
    "y_pred_scr_ban = tree_scr_ban.predict(test_scr_ban)\n",
    "\n",
    "y_pred_pin_ban = tree_pin_ban.predict(test_pin_ban)"
   ],
   "metadata": {
    "collapsed": false,
    "pycharm": {
     "name": "#%%\n"
    }
   }
  },
  {
   "cell_type": "code",
   "execution_count": null,
   "outputs": [],
   "source": [
    "accuracy_scr_pin = recall_score(y_test_scr_pin, y_pred_scr_pin)\n",
    "accuracy_scr_ban = recall_score(y_test_scr_ban, y_pred_scr_ban)\n",
    "accuracy_pin_ban = recall_score(y_test_pin_ban, y_pred_pin_ban)\n",
    "\n",
    "recall_scr_pin = recall_score(y_test_scr_pin, y_pred_scr_pin)\n",
    "recall_scr_ban = recall_score(y_test_scr_ban, y_pred_scr_ban)\n",
    "recall_pin_ban = recall_score(y_test_pin_ban, y_pred_pin_ban)\n",
    "\n",
    "precision_scr_pin = precision_score(y_test_scr_pin, y_pred_scr_pin)\n",
    "precision_scr_ban = precision_score(y_test_scr_ban, y_pred_scr_ban)\n",
    "precision_pin_ban = precision_score(y_test_pin_ban, y_pred_pin_ban)\n",
    "\n",
    "f1_scr_pin = f1_score(y_test_scr_pin, y_pred_scr_pin)\n",
    "f1_scr_ban = f1_score(y_test_scr_ban, y_pred_scr_ban)\n",
    "f1_pin_ban = f1_score(y_test_pin_ban, y_pred_pin_ban)\n",
    "\n",
    "confusion_matrix_scr_pin = pd.DataFrame(confusion_matrix(y_test_scr_pin, y_pred_scr_pin))\n",
    "confusion_matrix_scr_ban = pd.DataFrame(confusion_matrix(y_test_scr_ban, y_pred_scr_ban))\n",
    "confusion_matrix_pin_ban = pd.DataFrame(confusion_matrix(y_test_pin_ban, y_pred_pin_ban))"
   ],
   "metadata": {
    "collapsed": false,
    "pycharm": {
     "name": "#%%\n"
    }
   }
  },
  {
   "cell_type": "code",
   "execution_count": null,
   "outputs": [],
   "source": [
    "print('Scorpions Pinginus')\n",
    "print(f'accuracy: {accuracy_scr_pin}')\n",
    "print(f'recall: {recall_scr_pin}')\n",
    "print(f'precission: {precision_scr_pin}')\n",
    "print(f'f1: {f1_scr_pin}')\n",
    "\n",
    "sn.set(font_scale=1.4)\n",
    "sn.heatmap(confusion_matrix_scr_pin, annot=True, annot_kws={'size': 16})\n"
   ],
   "metadata": {
    "collapsed": false,
    "pycharm": {
     "name": "#%%\n"
    }
   }
  },
  {
   "cell_type": "code",
   "execution_count": null,
   "outputs": [],
   "source": [
    "print('Scorpions Bananka')\n",
    "print(f'accuracy: {accuracy_scr_ban}')\n",
    "print(f'recall: {recall_scr_ban}')\n",
    "print(f'precission: {precision_scr_ban}')\n",
    "print(f'f1: {f1_scr_ban}')\n",
    "\n",
    "sn.set(font_scale=1.4)\n",
    "sn.heatmap(confusion_matrix_scr_ban, annot=True, annot_kws={'size': 16})"
   ],
   "metadata": {
    "collapsed": false,
    "pycharm": {
     "name": "#%%\n"
    }
   }
  },
  {
   "cell_type": "code",
   "execution_count": null,
   "outputs": [],
   "source": [
    "print('Pinginus Bananka')\n",
    "print(f'accuracy: {accuracy_pin_ban}')\n",
    "print(f'recall: {recall_pin_ban}')\n",
    "print(f'precission: {precision_pin_ban}')\n",
    "print(f'f1: {f1_pin_ban}')\n",
    "\n",
    "sn.set(font_scale=1.4)\n",
    "sn.heatmap(confusion_matrix_pin_ban, annot=True, annot_kws={'size': 16})"
   ],
   "metadata": {
    "collapsed": false,
    "pycharm": {
     "name": "#%%\n"
    }
   }
  },
  {
   "cell_type": "code",
   "execution_count": null,
   "outputs": [],
   "source": [
    "cap = cv2.VideoCapture('test.mp4')\n",
    "\n",
    "if (cap.isOpened() == False):\n",
    "    print(\"Unable to read camera feed\")\n",
    "\n",
    "frame_width = int(cap.get(4))\n",
    "frame_height = int(cap.get(3))\n",
    "\n",
    "out = cv2.VideoWriter('scor_pin_svm.avi',cv2.VideoWriter_fourcc('M','J','P','G'), 10, (frame_width,frame_height))\n",
    "\n",
    "while(True):\n",
    "    ret, frame = cap.read()\n",
    "\n",
    "    if ret == True:\n",
    "        frame = cv2.rotate(frame, cv2.ROTATE_90_CLOCKWISE)\n",
    "        X = compute_hist(frame)\n",
    "        class_object = tree_scr_pin.predict(X)\n",
    "        position = (25, 350)\n",
    "        cv2.putText(frame, 'Class ' + str(class_object), position, cv2.FONT_HERSHEY_SIMPLEX, 2, (209, 80, 0, 255), 3)\n",
    "        out.write(frame)\n",
    "\n",
    "    else:\n",
    "        break\n",
    "\n",
    "cap.release()\n",
    "out.release()\n",
    "\n",
    "cv2.destroyAllWindows()"
   ],
   "metadata": {
    "collapsed": false,
    "pycharm": {
     "name": "#%%\n"
    }
   }
  },
  {
   "cell_type": "code",
   "execution_count": null,
   "outputs": [],
   "source": [
    "cap = cv2.VideoCapture('test.mp4')\n",
    "\n",
    "if (cap.isOpened() == False):\n",
    "    print(\"Unable to read camera feed\")\n",
    "\n",
    "frame_width = int(cap.get(4))\n",
    "frame_height = int(cap.get(3))\n",
    "\n",
    "out = cv2.VideoWriter('scor_ban_svm.avi',cv2.VideoWriter_fourcc('M','J','P','G'), 10, (frame_width,frame_height))\n",
    "\n",
    "while(True):\n",
    "    ret, frame = cap.read()\n",
    "\n",
    "    if ret == True:\n",
    "        frame = cv2.rotate(frame, cv2.ROTATE_90_CLOCKWISE)\n",
    "        X = compute_hist(frame)\n",
    "        class_object = tree_scr_ban.predict(X)\n",
    "        position = (25, 350)\n",
    "        cv2.putText(frame, 'Class ' + str(class_object), position, cv2.FONT_HERSHEY_SIMPLEX, 2, (209, 80, 0, 255), 3)\n",
    "        out.write(frame)\n",
    "\n",
    "    else:\n",
    "        break\n",
    "\n",
    "cap.release()\n",
    "out.release()\n",
    "\n",
    "cv2.destroyAllWindows()"
   ],
   "metadata": {
    "collapsed": false,
    "pycharm": {
     "name": "#%%\n"
    }
   }
  },
  {
   "cell_type": "code",
   "execution_count": null,
   "outputs": [],
   "source": [],
   "metadata": {
    "collapsed": false,
    "pycharm": {
     "name": "#%%\n"
    }
   }
  }
 ],
 "metadata": {
  "kernelspec": {
   "display_name": "Python 3",
   "language": "python",
   "name": "python3"
  },
  "language_info": {
   "codemirror_mode": {
    "name": "ipython",
    "version": 3
   },
   "file_extension": ".py",
   "mimetype": "text/x-python",
   "name": "python",
   "nbconvert_exporter": "python",
   "pygments_lexer": "ipython3",
   "version": "3.8.3"
  }
 },
 "nbformat": 4,
 "nbformat_minor": 1
}