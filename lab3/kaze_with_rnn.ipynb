{
 "cells": [
  {
   "cell_type": "code",
   "execution_count": 2,
   "metadata": {
    "pycharm": {
     "name": "#%%\n"
    }
   },
   "outputs": [],
   "source": [
    "X_scr_pin = []\n",
    "Y_scr_pin = []\n",
    "\n",
    "X_scr_ban = []\n",
    "Y_scr_ban = []\n",
    "\n",
    "X_pin_ban = []\n",
    "Y_pin_ban = []\n",
    "\n",
    "with open('./scorpions_pinginus.csv', newline='') as csfile:\n",
    "    spamreader = csv.reader(csfile, delimiter=' ', quotechar='|')\n",
    "    for row in spamreader:\n",
    "        X_scr_pin.append(row[0])\n",
    "        Y_scr_pin.append(int(row[1]))\n",
    "\n",
    "with open('./scorpions_bananka.csv', newline='') as csfile:\n",
    "    spamreader = csv.reader(csfile, delimiter=' ', quotechar='|')\n",
    "    for row in spamreader:\n",
    "        X_scr_ban.append(row[0])\n",
    "        Y_scr_ban.append(int(row[1]))\n",
    "\n",
    "with open('./pinginus_bananka.csv', newline='') as csfile:\n",
    "    spamreader = csv.reader(csfile, delimiter=' ', quotechar='|')\n",
    "    for row in spamreader:\n",
    "        X_pin_ban.append(row[0])\n",
    "        Y_pin_ban.append(int(row[1]))"
   ]
  },
  {
   "cell_type": "code",
   "execution_count": 58,
   "metadata": {
    "pycharm": {
     "name": "#%%\n"
    }
   },
   "outputs": [],
   "source": [
    "X_train_scr_pin, X_test_scr_pin, Y_train_scr_pin, Y_test_scr_pin = train_test_split(X_scr_pin, Y_scr_pin, test_size=0.2)\n",
    "\n",
    "X_train_scr_ban, X_test_scr_ban, Y_train_scr_ban, Y_test_scr_ban = train_test_split(X_scr_ban, Y_scr_ban, test_size=0.2)\n",
    "\n",
    "X_train_pin_ban, X_test_pin_ban, Y_train_pin_ban, Y_test_pin_ban = train_test_split(X_pin_ban, Y_pin_ban, test_size=0.2)"
   ]
  },
  {
   "cell_type": "code",
   "execution_count": 59,
   "metadata": {
    "pycharm": {
     "name": "#%%\n"
    }
   },
   "outputs": [],
   "source": [
    "def compute_data(X, n=8):\n",
    "\n",
    "    kaze = cv2.KAZE_create()\n",
    "    m = len(X)\n",
    "    X_res = np.zeros((m,n))\n",
    "    i = 0\n",
    "    for x in X:\n",
    "        img = cv2.imread(x, 0)\n",
    "        img = cv2.resize(img, (128, 128))\n",
    "        kp, des = kaze.detectAndCompute(img, None)\n",
    "\n",
    "        pt = [i.pt for i in kp]\n",
    "        pt_arr = np.array(pt)\n",
    "        if pt_arr.shape[0] < n:\n",
    "            if len(pt) != 0:\n",
    "                for j in range(pt_arr.shape[0]):\n",
    "                    X_res[i,j] = 1 / pt_arr.shape[0]\n",
    "        else:\n",
    "            kmeans = KMeans(n_clusters=n, random_state=0).fit(pt_arr)\n",
    "            list_masks = [ kmeans.labels_ == i for i in range(n)]\n",
    "\n",
    "            j = 0\n",
    "            for mask in list_masks:\n",
    "                pt_mask = np.round(pt_arr[mask,:], 0).astype(np.int)\n",
    "                hist = np.sum(img[pt_mask[:,0], pt_mask[:,1]]) / np.sum(mask)\n",
    "                X_res[i,j] = hist\n",
    "                j += 1\n",
    "        i += 1\n",
    "\n",
    "    return X_res"
   ]
  },
  {
   "cell_type": "code",
   "execution_count": 60,
   "metadata": {
    "pycharm": {
     "name": "#%%\n"
    }
   },
   "outputs": [],
   "source": [
    "train_scr_pin = compute_data(X_train_scr_pin)\n",
    "train_scr_ban = compute_data(X_train_scr_ban)\n",
    "train_pin_ban = compute_data(X_train_pin_ban)\n",
    "\n",
    "y_train_scr_pin = np.zeros((train_scr_pin.shape[0], 2))\n",
    "y_train_scr_ban = np.zeros((train_scr_ban.shape[0], 2))\n",
    "y_train_pin_ban = np.zeros((train_pin_ban.shape[0], 2))\n",
    "\n",
    "for i in range(train_scr_pin.shape[0]):\n",
    "    y_train_scr_pin[i, Y_train_scr_pin[i]] = 1\n",
    "\n",
    "for i in range(train_scr_ban.shape[0]):\n",
    "    y_train_scr_ban[i, Y_train_scr_ban[i]] = 1\n",
    "\n",
    "for i in range(train_pin_ban.shape[0]):\n",
    "    y_train_pin_ban[i, Y_train_pin_ban[i]] = 1\n",
    "\n",
    "test_scr_pin = compute_data(X_test_scr_pin)\n",
    "test_scr_ban = compute_data(X_test_scr_ban)\n",
    "test_pin_ban = compute_data(X_test_pin_ban)\n",
    "\n",
    "y_test_scr_pin = np.array(Y_test_scr_pin)\n",
    "y_test_scr_ban = np.array(Y_test_scr_ban)\n",
    "y_test_pin_ban = np.array(Y_test_pin_ban)"
   ]
  },
  {
   "cell_type": "code",
   "execution_count": 77,
   "metadata": {
    "pycharm": {
     "name": "#%%\n"
    }
   },
   "outputs": [],
   "source": [
    "def model(n=8):\n",
    "    key_points = keras.layers.Input(shape=(1,n), dtype='float32')\n",
    "    X = keras.layers.BatchNormalization()(key_points)\n",
    "    X = keras.layers.LSTM(512, return_sequences=True)(X)\n",
    "    X = keras.layers.Dropout(rate=0.5)(X)\n",
    "    X = keras.layers.LSTM(512, return_sequences=True)(X)\n",
    "    X = keras.layers.Dropout(rate=0.5)(X)\n",
    "    X = keras.layers.LSTM(512, return_sequences=False)(X)\n",
    "    X = keras.layers.Dropout(rate=0.5)(X)\n",
    "    X = keras.layers.Dense(units=2)(X)\n",
    "    X = keras.layers.Activation(activation='softmax')(X)\n",
    "\n",
    "    model = keras.Model(inputs=key_points, outputs=X)\n",
    "\n",
    "    return model"
   ]
  },
  {
   "cell_type": "code",
   "execution_count": 78,
   "metadata": {
    "pycharm": {
     "name": "#%%\n"
    }
   },
   "outputs": [
    {
     "name": "stdout",
     "output_type": "stream",
     "text": [
      "Model: \"functional_31\"\n",
      "_________________________________________________________________\n",
      "Layer (type)                 Output Shape              Param #   \n",
      "=================================================================\n",
      "input_16 (InputLayer)        [(None, 1, 8)]            0         \n",
      "_________________________________________________________________\n",
      "batch_normalization_15 (Batc (None, 1, 8)              32        \n",
      "_________________________________________________________________\n",
      "lstm_45 (LSTM)               (None, 1, 512)            1067008   \n",
      "_________________________________________________________________\n",
      "dropout_45 (Dropout)         (None, 1, 512)            0         \n",
      "_________________________________________________________________\n",
      "lstm_46 (LSTM)               (None, 1, 512)            2099200   \n",
      "_________________________________________________________________\n",
      "dropout_46 (Dropout)         (None, 1, 512)            0         \n",
      "_________________________________________________________________\n",
      "lstm_47 (LSTM)               (None, 512)               2099200   \n",
      "_________________________________________________________________\n",
      "dropout_47 (Dropout)         (None, 512)               0         \n",
      "_________________________________________________________________\n",
      "dense_15 (Dense)             (None, 2)                 1026      \n",
      "_________________________________________________________________\n",
      "activation_15 (Activation)   (None, 2)                 0         \n",
      "=================================================================\n",
      "Total params: 5,266,466\n",
      "Trainable params: 5,266,450\n",
      "Non-trainable params: 16\n",
      "_________________________________________________________________\n"
     ]
    }
   ],
   "source": [
    "example = model(n=8)\n",
    "example.summary()"
   ]
  },
  {
   "cell_type": "code",
   "execution_count": 79,
   "metadata": {
    "pycharm": {
     "name": "#%%\n"
    }
   },
   "outputs": [],
   "source": [
    "model_scr_pin = model()\n",
    "model_scr_ban = model()\n",
    "model_pin_ban = model()"
   ]
  },
  {
   "cell_type": "code",
   "execution_count": 82,
   "metadata": {
    "pycharm": {
     "name": "#%%\n"
    }
   },
   "outputs": [],
   "source": [
    "model_scr_pin.compile(loss='categorical_crossentropy', optimizer='adam', metrics=['accuracy'])\n",
    "model_scr_ban.compile(loss='categorical_crossentropy', optimizer='adam', metrics=['accuracy'])\n",
    "model_pin_ban.compile(loss='categorical_crossentropy', optimizer='adam', metrics=['accuracy'])"
   ]
  },
  {
   "cell_type": "code",
   "execution_count": 83,
   "metadata": {
    "pycharm": {
     "name": "#%%\n"
    }
   },
   "outputs": [],
   "source": [
    "X_train_scr_pin_arr = train_scr_pin[:, np.newaxis, :]\n",
    "X_train_scr_ban_arr = train_scr_ban[:, np.newaxis, :]\n",
    "X_train_pin_ban_arr = train_pin_ban[:, np.newaxis, :]\n",
    "\n",
    "\n",
    "X_test_scr_pin_arr = test_scr_pin[:,np.newaxis, :]\n",
    "X_test_scr_ban_arr = test_scr_ban[:,np.newaxis, :]\n",
    "X_test_pin_ban_arr = test_pin_ban[:,np.newaxis, :]"
   ]
  },
  {
   "cell_type": "code",
   "execution_count": 87,
   "metadata": {
    "pycharm": {
     "name": "#%%\n"
    },
    "scrolled": true
   },
   "outputs": [
    {
     "name": "stdout",
     "output_type": "stream",
     "text": [
      "Epoch 1/52\n",
      "22/22 [==============================] - 1s 27ms/step - loss: 0.6274 - accuracy: 0.6372\n",
      "Epoch 2/52\n",
      "22/22 [==============================] - 1s 28ms/step - loss: 0.6193 - accuracy: 0.6342\n",
      "Epoch 3/52\n",
      "22/22 [==============================] - 1s 27ms/step - loss: 0.6427 - accuracy: 0.6091\n",
      "Epoch 4/52\n",
      "22/22 [==============================] - 1s 27ms/step - loss: 0.6258 - accuracy: 0.6460\n",
      "Epoch 5/52\n",
      "22/22 [==============================] - 1s 27ms/step - loss: 0.6310 - accuracy: 0.6416\n",
      "Epoch 6/52\n",
      "22/22 [==============================] - 1s 27ms/step - loss: 0.6291 - accuracy: 0.6401\n",
      "Epoch 7/52\n",
      "22/22 [==============================] - 1s 27ms/step - loss: 0.6259 - accuracy: 0.6313\n",
      "Epoch 8/52\n",
      "22/22 [==============================] - 1s 27ms/step - loss: 0.6197 - accuracy: 0.6357\n",
      "Epoch 9/52\n",
      "22/22 [==============================] - 1s 27ms/step - loss: 0.6284 - accuracy: 0.6342\n",
      "Epoch 10/52\n",
      "22/22 [==============================] - 1s 27ms/step - loss: 0.6152 - accuracy: 0.6460\n",
      "Epoch 11/52\n",
      "22/22 [==============================] - 1s 27ms/step - loss: 0.6128 - accuracy: 0.6563\n",
      "Epoch 12/52\n",
      "22/22 [==============================] - 1s 27ms/step - loss: 0.6241 - accuracy: 0.6490\n",
      "Epoch 13/52\n",
      "22/22 [==============================] - 1s 27ms/step - loss: 0.6168 - accuracy: 0.6475\n",
      "Epoch 14/52\n",
      "22/22 [==============================] - 1s 32ms/step - loss: 0.6169 - accuracy: 0.6372\n",
      "Epoch 15/52\n",
      "22/22 [==============================] - 1s 28ms/step - loss: 0.6355 - accuracy: 0.6445\n",
      "Epoch 16/52\n",
      "22/22 [==============================] - 1s 28ms/step - loss: 0.6242 - accuracy: 0.6401\n",
      "Epoch 17/52\n",
      "22/22 [==============================] - 1s 32ms/step - loss: 0.6024 - accuracy: 0.6549\n",
      "Epoch 18/52\n",
      "22/22 [==============================] - 1s 27ms/step - loss: 0.6155 - accuracy: 0.6431\n",
      "Epoch 19/52\n",
      "22/22 [==============================] - 1s 29ms/step - loss: 0.6153 - accuracy: 0.6372\n",
      "Epoch 20/52\n",
      "22/22 [==============================] - 1s 29ms/step - loss: 0.6177 - accuracy: 0.6342\n",
      "Epoch 21/52\n",
      "22/22 [==============================] - 1s 29ms/step - loss: 0.6124 - accuracy: 0.6342\n",
      "Epoch 22/52\n",
      "22/22 [==============================] - 1s 29ms/step - loss: 0.6139 - accuracy: 0.6254\n",
      "Epoch 23/52\n",
      "22/22 [==============================] - 1s 31ms/step - loss: 0.6086 - accuracy: 0.6386\n",
      "Epoch 24/52\n",
      "22/22 [==============================] - 1s 27ms/step - loss: 0.5975 - accuracy: 0.6549\n",
      "Epoch 25/52\n",
      "22/22 [==============================] - 1s 31ms/step - loss: 0.6051 - accuracy: 0.6460\n",
      "Epoch 26/52\n",
      "22/22 [==============================] - 1s 28ms/step - loss: 0.6038 - accuracy: 0.6504\n",
      "Epoch 27/52\n",
      "22/22 [==============================] - 1s 29ms/step - loss: 0.6164 - accuracy: 0.6490\n",
      "Epoch 28/52\n",
      "22/22 [==============================] - 1s 28ms/step - loss: 0.6257 - accuracy: 0.6224\n",
      "Epoch 29/52\n",
      "22/22 [==============================] - 1s 28ms/step - loss: 0.5979 - accuracy: 0.6711\n",
      "Epoch 30/52\n",
      "22/22 [==============================] - 1s 28ms/step - loss: 0.5939 - accuracy: 0.6504\n",
      "Epoch 31/52\n",
      "22/22 [==============================] - 1s 28ms/step - loss: 0.6003 - accuracy: 0.6563\n",
      "Epoch 32/52\n",
      "22/22 [==============================] - 1s 28ms/step - loss: 0.5995 - accuracy: 0.6475\n",
      "Epoch 33/52\n",
      "22/22 [==============================] - 1s 28ms/step - loss: 0.6035 - accuracy: 0.6549\n",
      "Epoch 34/52\n",
      "22/22 [==============================] - 1s 28ms/step - loss: 0.5962 - accuracy: 0.6519\n",
      "Epoch 35/52\n",
      "22/22 [==============================] - 1s 29ms/step - loss: 0.5993 - accuracy: 0.6357\n",
      "Epoch 36/52\n",
      "22/22 [==============================] - 1s 30ms/step - loss: 0.6027 - accuracy: 0.6460\n",
      "Epoch 37/52\n",
      "22/22 [==============================] - 1s 29ms/step - loss: 0.5935 - accuracy: 0.6608\n",
      "Epoch 38/52\n",
      "22/22 [==============================] - 1s 29ms/step - loss: 0.5926 - accuracy: 0.6637\n",
      "Epoch 39/52\n",
      "22/22 [==============================] - 1s 31ms/step - loss: 0.5744 - accuracy: 0.6814\n",
      "Epoch 40/52\n",
      "22/22 [==============================] - 1s 29ms/step - loss: 0.5816 - accuracy: 0.6873\n",
      "Epoch 41/52\n",
      "22/22 [==============================] - 1s 28ms/step - loss: 0.6104 - accuracy: 0.6313\n",
      "Epoch 42/52\n",
      "22/22 [==============================] - 1s 30ms/step - loss: 0.5860 - accuracy: 0.6622\n",
      "Epoch 43/52\n",
      "22/22 [==============================] - 1s 28ms/step - loss: 0.5755 - accuracy: 0.6696\n",
      "Epoch 44/52\n",
      "22/22 [==============================] - 1s 28ms/step - loss: 0.5980 - accuracy: 0.6593\n",
      "Epoch 45/52\n",
      "22/22 [==============================] - 1s 28ms/step - loss: 0.6073 - accuracy: 0.6504\n",
      "Epoch 46/52\n",
      "22/22 [==============================] - 1s 29ms/step - loss: 0.5851 - accuracy: 0.6726\n",
      "Epoch 47/52\n",
      "22/22 [==============================] - 1s 28ms/step - loss: 0.5968 - accuracy: 0.6608\n",
      "Epoch 48/52\n",
      "22/22 [==============================] - 1s 29ms/step - loss: 0.5854 - accuracy: 0.6519\n",
      "Epoch 49/52\n",
      "22/22 [==============================] - 1s 28ms/step - loss: 0.5800 - accuracy: 0.6608\n",
      "Epoch 50/52\n",
      "22/22 [==============================] - 1s 28ms/step - loss: 0.5735 - accuracy: 0.6622\n",
      "Epoch 51/52\n",
      "22/22 [==============================] - 1s 30ms/step - loss: 0.5812 - accuracy: 0.6563\n",
      "Epoch 52/52\n",
      "22/22 [==============================] - 1s 29ms/step - loss: 0.5758 - accuracy: 0.6608\n"
     ]
    },
    {
     "data": {
      "text/plain": [
       "<tensorflow.python.keras.callbacks.History at 0x7ff39c52d700>"
      ]
     },
     "execution_count": 87,
     "metadata": {},
     "output_type": "execute_result"
    }
   ],
   "source": [
    "model_scr_pin.fit(X_train_scr_pin_arr, y_train_scr_pin, epochs=52, batch_size=32, shuffle=True)"
   ]
  },
  {
   "cell_type": "code",
   "execution_count": 85,
   "metadata": {
    "pycharm": {
     "name": "#%%\n"
    }
   },
   "outputs": [
    {
     "name": "stdout",
     "output_type": "stream",
     "text": [
      "Epoch 1/52\n",
      "21/21 [==============================] - 1s 28ms/step - loss: 0.6931 - accuracy: 0.4886\n",
      "Epoch 2/52\n",
      "21/21 [==============================] - 1s 29ms/step - loss: 0.6901 - accuracy: 0.5023\n",
      "Epoch 3/52\n",
      "21/21 [==============================] - 1s 28ms/step - loss: 0.6855 - accuracy: 0.4871\n",
      "Epoch 4/52\n",
      "21/21 [==============================] - 1s 28ms/step - loss: 0.6776 - accuracy: 0.5539\n",
      "Epoch 5/52\n",
      "21/21 [==============================] - 1s 28ms/step - loss: 0.6694 - accuracy: 0.5751\n",
      "Epoch 6/52\n",
      "21/21 [==============================] - 1s 27ms/step - loss: 0.6541 - accuracy: 0.5918\n",
      "Epoch 7/52\n",
      "21/21 [==============================] - 1s 30ms/step - loss: 0.6553 - accuracy: 0.5827\n",
      "Epoch 8/52\n",
      "21/21 [==============================] - 1s 29ms/step - loss: 0.6570 - accuracy: 0.5797\n",
      "Epoch 9/52\n",
      "21/21 [==============================] - 1s 28ms/step - loss: 0.6543 - accuracy: 0.6055\n",
      "Epoch 10/52\n",
      "21/21 [==============================] - 1s 29ms/step - loss: 0.6416 - accuracy: 0.6267\n",
      "Epoch 11/52\n",
      "21/21 [==============================] - 1s 33ms/step - loss: 0.6598 - accuracy: 0.5933\n",
      "Epoch 12/52\n",
      "21/21 [==============================] - 1s 28ms/step - loss: 0.6558 - accuracy: 0.5933\n",
      "Epoch 13/52\n",
      "21/21 [==============================] - 1s 29ms/step - loss: 0.6455 - accuracy: 0.6131\n",
      "Epoch 14/52\n",
      "21/21 [==============================] - 1s 29ms/step - loss: 0.6482 - accuracy: 0.6085\n",
      "Epoch 15/52\n",
      "21/21 [==============================] - 1s 29ms/step - loss: 0.6466 - accuracy: 0.6070\n",
      "Epoch 16/52\n",
      "21/21 [==============================] - 1s 28ms/step - loss: 0.6394 - accuracy: 0.6328\n",
      "Epoch 17/52\n",
      "21/21 [==============================] - 1s 31ms/step - loss: 0.6348 - accuracy: 0.6055\n",
      "Epoch 18/52\n",
      "21/21 [==============================] - 1s 28ms/step - loss: 0.6397 - accuracy: 0.6191\n",
      "Epoch 19/52\n",
      "21/21 [==============================] - 1s 27ms/step - loss: 0.6426 - accuracy: 0.6070\n",
      "Epoch 20/52\n",
      "21/21 [==============================] - 1s 27ms/step - loss: 0.6484 - accuracy: 0.6024\n",
      "Epoch 21/52\n",
      "21/21 [==============================] - 1s 27ms/step - loss: 0.6425 - accuracy: 0.6161\n",
      "Epoch 22/52\n",
      "21/21 [==============================] - 1s 27ms/step - loss: 0.6351 - accuracy: 0.6176\n",
      "Epoch 23/52\n",
      "21/21 [==============================] - 1s 27ms/step - loss: 0.6307 - accuracy: 0.6267\n",
      "Epoch 24/52\n",
      "21/21 [==============================] - 1s 27ms/step - loss: 0.6308 - accuracy: 0.5948\n",
      "Epoch 25/52\n",
      "21/21 [==============================] - 1s 27ms/step - loss: 0.6373 - accuracy: 0.6100\n",
      "Epoch 26/52\n",
      "21/21 [==============================] - 1s 27ms/step - loss: 0.6254 - accuracy: 0.6388\n",
      "Epoch 27/52\n",
      "21/21 [==============================] - 1s 27ms/step - loss: 0.6310 - accuracy: 0.6222\n",
      "Epoch 28/52\n",
      "21/21 [==============================] - 1s 27ms/step - loss: 0.6308 - accuracy: 0.6161\n",
      "Epoch 29/52\n",
      "21/21 [==============================] - 1s 27ms/step - loss: 0.6326 - accuracy: 0.5873\n",
      "Epoch 30/52\n",
      "21/21 [==============================] - 1s 27ms/step - loss: 0.6441 - accuracy: 0.6115\n",
      "Epoch 31/52\n",
      "21/21 [==============================] - 1s 27ms/step - loss: 0.6325 - accuracy: 0.6070\n",
      "Epoch 32/52\n",
      "21/21 [==============================] - 1s 28ms/step - loss: 0.6234 - accuracy: 0.6222\n",
      "Epoch 33/52\n",
      "21/21 [==============================] - 1s 35ms/step - loss: 0.6283 - accuracy: 0.6222\n",
      "Epoch 34/52\n",
      "21/21 [==============================] - 1s 33ms/step - loss: 0.6203 - accuracy: 0.6495\n",
      "Epoch 35/52\n",
      "21/21 [==============================] - 1s 32ms/step - loss: 0.6237 - accuracy: 0.6313\n",
      "Epoch 36/52\n",
      "21/21 [==============================] - 1s 27ms/step - loss: 0.6215 - accuracy: 0.6252\n",
      "Epoch 37/52\n",
      "21/21 [==============================] - 1s 27ms/step - loss: 0.6207 - accuracy: 0.6222\n",
      "Epoch 38/52\n",
      "21/21 [==============================] - 1s 27ms/step - loss: 0.6098 - accuracy: 0.6328\n",
      "Epoch 39/52\n",
      "21/21 [==============================] - 1s 28ms/step - loss: 0.6005 - accuracy: 0.6540\n",
      "Epoch 40/52\n",
      "21/21 [==============================] - 1s 31ms/step - loss: 0.6285 - accuracy: 0.6267\n",
      "Epoch 41/52\n",
      "21/21 [==============================] - 1s 28ms/step - loss: 0.6081 - accuracy: 0.6480\n",
      "Epoch 42/52\n",
      "21/21 [==============================] - 1s 27ms/step - loss: 0.6138 - accuracy: 0.6328\n",
      "Epoch 43/52\n",
      "21/21 [==============================] - 1s 27ms/step - loss: 0.6204 - accuracy: 0.6131\n",
      "Epoch 44/52\n",
      "21/21 [==============================] - 1s 27ms/step - loss: 0.6177 - accuracy: 0.6373\n",
      "Epoch 45/52\n",
      "21/21 [==============================] - 1s 31ms/step - loss: 0.6120 - accuracy: 0.6449\n",
      "Epoch 46/52\n",
      "21/21 [==============================] - 1s 27ms/step - loss: 0.6061 - accuracy: 0.6586\n",
      "Epoch 47/52\n",
      "21/21 [==============================] - 1s 27ms/step - loss: 0.6118 - accuracy: 0.6434\n",
      "Epoch 48/52\n",
      "21/21 [==============================] - 1s 27ms/step - loss: 0.6132 - accuracy: 0.6464\n",
      "Epoch 49/52\n",
      "21/21 [==============================] - 1s 27ms/step - loss: 0.6064 - accuracy: 0.6510\n",
      "Epoch 50/52\n",
      "21/21 [==============================] - 1s 28ms/step - loss: 0.5975 - accuracy: 0.6692\n",
      "Epoch 51/52\n",
      "21/21 [==============================] - 1s 33ms/step - loss: 0.6103 - accuracy: 0.6631\n",
      "Epoch 52/52\n",
      "21/21 [==============================] - 1s 28ms/step - loss: 0.5973 - accuracy: 0.6464\n"
     ]
    },
    {
     "data": {
      "text/plain": [
       "<tensorflow.python.keras.callbacks.History at 0x7ff39e6c1580>"
      ]
     },
     "execution_count": 85,
     "metadata": {},
     "output_type": "execute_result"
    }
   ],
   "source": [
    "model_scr_ban.fit(X_train_scr_ban_arr, y_train_scr_ban, epochs=52, batch_size=32, shuffle=True)"
   ]
  },
  {
   "cell_type": "code",
   "execution_count": 86,
   "metadata": {
    "pycharm": {
     "name": "#%%\n"
    }
   },
   "outputs": [
    {
     "name": "stdout",
     "output_type": "stream",
     "text": [
      "Epoch 1/52\n",
      "22/22 [==============================] - 1s 27ms/step - loss: 0.6929 - accuracy: 0.5103\n",
      "Epoch 2/52\n",
      "22/22 [==============================] - 1s 28ms/step - loss: 0.6871 - accuracy: 0.5472\n",
      "Epoch 3/52\n",
      "22/22 [==============================] - 1s 27ms/step - loss: 0.6741 - accuracy: 0.5590\n",
      "Epoch 4/52\n",
      "22/22 [==============================] - 1s 28ms/step - loss: 0.6660 - accuracy: 0.5900\n",
      "Epoch 5/52\n",
      "22/22 [==============================] - 1s 27ms/step - loss: 0.6426 - accuracy: 0.6622\n",
      "Epoch 6/52\n",
      "22/22 [==============================] - 1s 28ms/step - loss: 0.6356 - accuracy: 0.6519\n",
      "Epoch 7/52\n",
      "22/22 [==============================] - 1s 27ms/step - loss: 0.6351 - accuracy: 0.6652\n",
      "Epoch 8/52\n",
      "22/22 [==============================] - 1s 27ms/step - loss: 0.6422 - accuracy: 0.6416\n",
      "Epoch 9/52\n",
      "22/22 [==============================] - 1s 28ms/step - loss: 0.6278 - accuracy: 0.6534\n",
      "Epoch 10/52\n",
      "22/22 [==============================] - 1s 27ms/step - loss: 0.6106 - accuracy: 0.6785\n",
      "Epoch 11/52\n",
      "22/22 [==============================] - 1s 28ms/step - loss: 0.6114 - accuracy: 0.6740\n",
      "Epoch 12/52\n",
      "22/22 [==============================] - 1s 28ms/step - loss: 0.6008 - accuracy: 0.6814\n",
      "Epoch 13/52\n",
      "22/22 [==============================] - 1s 27ms/step - loss: 0.6132 - accuracy: 0.6799\n",
      "Epoch 14/52\n",
      "22/22 [==============================] - 1s 27ms/step - loss: 0.6148 - accuracy: 0.6549\n",
      "Epoch 15/52\n",
      "22/22 [==============================] - 1s 27ms/step - loss: 0.6026 - accuracy: 0.6622\n",
      "Epoch 16/52\n",
      "22/22 [==============================] - 1s 28ms/step - loss: 0.6111 - accuracy: 0.6667\n",
      "Epoch 17/52\n",
      "22/22 [==============================] - 1s 27ms/step - loss: 0.6073 - accuracy: 0.6563\n",
      "Epoch 18/52\n",
      "22/22 [==============================] - 1s 28ms/step - loss: 0.6065 - accuracy: 0.6711\n",
      "Epoch 19/52\n",
      "22/22 [==============================] - 1s 28ms/step - loss: 0.6017 - accuracy: 0.6696\n",
      "Epoch 20/52\n",
      "22/22 [==============================] - 1s 29ms/step - loss: 0.5952 - accuracy: 0.6947\n",
      "Epoch 21/52\n",
      "22/22 [==============================] - 1s 30ms/step - loss: 0.6078 - accuracy: 0.6740\n",
      "Epoch 22/52\n",
      "22/22 [==============================] - 1s 33ms/step - loss: 0.6086 - accuracy: 0.6740\n",
      "Epoch 23/52\n",
      "22/22 [==============================] - 1s 30ms/step - loss: 0.5948 - accuracy: 0.6711\n",
      "Epoch 24/52\n",
      "22/22 [==============================] - 1s 30ms/step - loss: 0.5985 - accuracy: 0.6814\n",
      "Epoch 25/52\n",
      "22/22 [==============================] - 1s 30ms/step - loss: 0.5856 - accuracy: 0.6903\n",
      "Epoch 26/52\n",
      "22/22 [==============================] - 1s 31ms/step - loss: 0.5918 - accuracy: 0.6755\n",
      "Epoch 27/52\n",
      "22/22 [==============================] - 1s 28ms/step - loss: 0.5990 - accuracy: 0.6770\n",
      "Epoch 28/52\n",
      "22/22 [==============================] - 1s 32ms/step - loss: 0.6053 - accuracy: 0.6490\n",
      "Epoch 29/52\n",
      "22/22 [==============================] - 1s 31ms/step - loss: 0.5967 - accuracy: 0.6711\n",
      "Epoch 30/52\n",
      "22/22 [==============================] - 1s 29ms/step - loss: 0.5917 - accuracy: 0.6681\n",
      "Epoch 31/52\n",
      "22/22 [==============================] - 1s 28ms/step - loss: 0.5862 - accuracy: 0.6991\n",
      "Epoch 32/52\n",
      "22/22 [==============================] - 1s 27ms/step - loss: 0.5806 - accuracy: 0.6829\n",
      "Epoch 33/52\n",
      "22/22 [==============================] - 1s 28ms/step - loss: 0.5817 - accuracy: 0.6873\n",
      "Epoch 34/52\n",
      "22/22 [==============================] - 1s 31ms/step - loss: 0.5778 - accuracy: 0.6932\n",
      "Epoch 35/52\n",
      "22/22 [==============================] - 1s 30ms/step - loss: 0.5758 - accuracy: 0.6947\n",
      "Epoch 36/52\n",
      "22/22 [==============================] - 1s 29ms/step - loss: 0.5775 - accuracy: 0.7080\n",
      "Epoch 37/52\n",
      "22/22 [==============================] - 1s 30ms/step - loss: 0.5794 - accuracy: 0.6829\n",
      "Epoch 38/52\n",
      "22/22 [==============================] - 1s 28ms/step - loss: 0.5657 - accuracy: 0.6858\n",
      "Epoch 39/52\n",
      "22/22 [==============================] - 1s 31ms/step - loss: 0.5685 - accuracy: 0.6991\n",
      "Epoch 40/52\n",
      "22/22 [==============================] - 1s 29ms/step - loss: 0.5880 - accuracy: 0.6799\n",
      "Epoch 41/52\n",
      "22/22 [==============================] - 1s 29ms/step - loss: 0.5655 - accuracy: 0.7153\n",
      "Epoch 42/52\n",
      "22/22 [==============================] - 1s 30ms/step - loss: 0.5751 - accuracy: 0.6829\n",
      "Epoch 43/52\n",
      "22/22 [==============================] - 1s 33ms/step - loss: 0.5718 - accuracy: 0.7021\n",
      "Epoch 44/52\n",
      "22/22 [==============================] - 1s 36ms/step - loss: 0.5743 - accuracy: 0.6991\n",
      "Epoch 45/52\n",
      "22/22 [==============================] - 1s 31ms/step - loss: 0.5502 - accuracy: 0.7080\n",
      "Epoch 46/52\n",
      "22/22 [==============================] - 1s 31ms/step - loss: 0.5765 - accuracy: 0.6858\n",
      "Epoch 47/52\n",
      "22/22 [==============================] - 1s 31ms/step - loss: 0.5517 - accuracy: 0.7109\n",
      "Epoch 48/52\n",
      "22/22 [==============================] - 1s 28ms/step - loss: 0.5552 - accuracy: 0.7050\n",
      "Epoch 49/52\n",
      "22/22 [==============================] - 1s 31ms/step - loss: 0.5729 - accuracy: 0.7006\n",
      "Epoch 50/52\n",
      "22/22 [==============================] - 1s 55ms/step - loss: 0.5632 - accuracy: 0.7006\n",
      "Epoch 51/52\n",
      "22/22 [==============================] - 1s 41ms/step - loss: 0.5653 - accuracy: 0.6917\n",
      "Epoch 52/52\n",
      "22/22 [==============================] - 1s 33ms/step - loss: 0.5762 - accuracy: 0.6711\n"
     ]
    },
    {
     "data": {
      "text/plain": [
       "<tensorflow.python.keras.callbacks.History at 0x7ff397148280>"
      ]
     },
     "execution_count": 86,
     "metadata": {},
     "output_type": "execute_result"
    }
   ],
   "source": [
    "model_pin_ban.fit(X_train_pin_ban_arr, y_train_pin_ban, epochs=52, batch_size=32, shuffle=True)"
   ]
  },
  {
   "cell_type": "code",
   "execution_count": 88,
   "metadata": {
    "pycharm": {
     "name": "#%%\n"
    }
   },
   "outputs": [],
   "source": [
    "y_pred_scr_pin = model_scr_pin.predict(X_test_scr_pin_arr)\n",
    "y_pred_scr_pin_target = np.argmax(y_pred_scr_pin, axis=1)\n",
    "\n",
    "y_pred_scr_ban = model_scr_ban.predict(X_test_scr_ban_arr)\n",
    "y_pred_scr_ban_target = np.argmax(y_pred_scr_ban, axis=1)\n",
    "\n",
    "y_pred_pin_ban = model_pin_ban.predict(X_test_pin_ban_arr)\n",
    "y_pred_pin_ban_target = np.argmax(y_pred_pin_ban, axis=1)"
   ]
  },
  {
   "cell_type": "code",
   "execution_count": 89,
   "metadata": {
    "pycharm": {
     "name": "#%%\n"
    }
   },
   "outputs": [],
   "source": [
    "accuracy_scr_pin = recall_score(y_test_scr_pin, y_pred_scr_pin_target)\n",
    "accuracy_scr_ban = recall_score(y_test_scr_ban, y_pred_scr_ban_target)\n",
    "accuracy_pin_ban = recall_score(y_test_pin_ban, y_pred_pin_ban_target)\n",
    "\n",
    "recall_scr_pin = recall_score(y_test_scr_pin, y_pred_scr_pin_target)\n",
    "recall_scr_ban = recall_score(y_test_scr_ban, y_pred_scr_ban_target)\n",
    "recall_pin_ban = recall_score(y_test_pin_ban, y_pred_pin_ban_target)\n",
    "\n",
    "precision_scr_pin = precision_score(y_test_scr_pin, y_pred_scr_pin_target)\n",
    "precision_scr_ban = precision_score(y_test_scr_ban, y_pred_scr_ban_target)\n",
    "precision_pin_ban = precision_score(y_test_pin_ban, y_pred_pin_ban_target)\n",
    "\n",
    "f1_scr_pin = f1_score(y_test_scr_pin, y_pred_scr_pin_target)\n",
    "f1_scr_ban = f1_score(y_test_scr_ban, y_pred_scr_ban_target)\n",
    "f1_pin_ban = f1_score(y_test_pin_ban, y_pred_pin_ban_target)\n",
    "\n",
    "confusion_matrix_scr_pin = pd.DataFrame(confusion_matrix(y_test_scr_pin, y_pred_scr_pin_target))\n",
    "confusion_matrix_scr_ban = pd.DataFrame(confusion_matrix(y_test_scr_ban, y_pred_scr_ban_target))\n",
    "confusion_matrix_pin_ban = pd.DataFrame(confusion_matrix(y_test_pin_ban, y_pred_pin_ban_target))"
   ]
  },
  {
   "cell_type": "code",
   "execution_count": 90,
   "metadata": {
    "pycharm": {
     "name": "#%%\n"
    }
   },
   "outputs": [
    {
     "name": "stdout",
     "output_type": "stream",
     "text": [
      "Scorpions Pinginus\n",
      "accuracy: 0.625\n",
      "recall: 0.625\n",
      "precission: 0.5617977528089888\n",
      "f1: 0.591715976331361\n"
     ]
    },
    {
     "data": {
      "text/plain": [
       "<matplotlib.axes._subplots.AxesSubplot at 0x7ff39e73bf70>"
      ]
     },
     "execution_count": 90,
     "metadata": {},
     "output_type": "execute_result"
    },
    {
     "data": {
      "image/png": "[encoded data removed]",
      "text/plain": [
       "<Figure size 432x288 with 2 Axes>"
      ]
     },
     "metadata": {},
     "output_type": "display_data"
    }
   ],
   "source": [
    "print('Scorpions Pinginus')\n",
    "print(f'accuracy: {accuracy_scr_pin}')\n",
    "print(f'recall: {recall_scr_pin}')\n",
    "print(f'precission: {precision_scr_pin}')\n",
    "print(f'f1: {f1_scr_pin}')\n",
    "\n",
    "sn.set(font_scale=1.4)\n",
    "sn.heatmap(confusion_matrix_scr_pin, annot=True, annot_kws={'size': 16})\n"
   ]
  },
  {
   "cell_type": "code",
   "execution_count": 72,
   "metadata": {
    "pycharm": {
     "name": "#%%\n"
    }
   },
   "outputs": [
    {
     "name": "stdout",
     "output_type": "stream",
     "text": [
      "Scorpions Bananka\n",
      "accuracy: 0.5769230769230769\n",
      "recall: 0.5769230769230769\n",
      "precission: 0.6521739130434783\n",
      "f1: 0.6122448979591837\n"
     ]
    },
    {
     "data": {
      "text/plain": [
       "<matplotlib.axes._subplots.AxesSubplot at 0x7ff3a82a77f0>"
      ]
     },
     "execution_count": 72,
     "metadata": {},
     "output_type": "execute_result"
    },
    {
     "data": {
      "image/png": "[encoded data removed]",
      "text/plain": [
       "<Figure size 432x288 with 2 Axes>"
      ]
     },
     "metadata": {},
     "output_type": "display_data"
    }
   ],
   "source": [
    "print('Scorpions Bananka')\n",
    "print(f'accuracy: {accuracy_scr_ban}')\n",
    "print(f'recall: {recall_scr_ban}')\n",
    "print(f'precission: {precision_scr_ban}')\n",
    "print(f'f1: {f1_scr_ban}')\n",
    "\n",
    "sn.set(font_scale=1.4)\n",
    "sn.heatmap(confusion_matrix_scr_ban, annot=True, annot_kws={'size': 16})"
   ]
  },
  {
   "cell_type": "code",
   "execution_count": 73,
   "metadata": {
    "pycharm": {
     "name": "#%%\n"
    }
   },
   "outputs": [
    {
     "name": "stdout",
     "output_type": "stream",
     "text": [
      "Pinginus Bananka\n",
      "accuracy: 0.5934065934065934\n",
      "recall: 0.5934065934065934\n",
      "precission: 0.7297297297297297\n",
      "f1: 0.6545454545454545\n"
     ]
    },
    {
     "data": {
      "text/plain": [
       "<matplotlib.axes._subplots.AxesSubplot at 0x7ff3a8223700>"
      ]
     },
     "execution_count": 73,
     "metadata": {},
     "output_type": "execute_result"
    },
    {
     "data": {
      "image/png": "[encoded data removed]",
      "text/plain": [
       "<Figure size 432x288 with 2 Axes>"
      ]
     },
     "metadata": {},
     "output_type": "display_data"
    }
   ],
   "source": [
    "print('Pinginus Bananka')\n",
    "print(f'accuracy: {accuracy_pin_ban}')\n",
    "print(f'recall: {recall_pin_ban}')\n",
    "print(f'precission: {precision_pin_ban}')\n",
    "print(f'f1: {f1_pin_ban}')\n",
    "\n",
    "sn.set(font_scale=1.4)\n",
    "sn.heatmap(confusion_matrix_pin_ban, annot=True, annot_kws={'size': 16})"
   ]
  },
  {
   "cell_type": "code",
   "execution_count": 74,
   "metadata": {
    "pycharm": {
     "name": "#%%\n"
    }
   },
   "outputs": [],
   "source": [
    "def compute_hist(frame, n=8):\n",
    "    kaze = cv2.KAZE_create()\n",
    "    m = 1\n",
    "    X_res = np.zeros((m,n))\n",
    "\n",
    "    img = cv2.resize(cv2.cvtColor(frame, cv2.COLOR_BGR2GRAY), (128, 128))\n",
    "    kp, des = kaze.detectAndCompute(img, None)\n",
    "\n",
    "    pt = [i.pt for i in kp]\n",
    "    pt_arr = np.array(pt)\n",
    "\n",
    "    if pt_arr.shape[0] < n:\n",
    "        if len(pt) != 0:\n",
    "            for j in range(pt_arr.shape[0]):\n",
    "                X_res[0,j] = 1 / pt_arr.shape[0]\n",
    "    else:\n",
    "        kmeans = KMeans(n_clusters=n, random_state=0).fit(pt_arr)\n",
    "        list_masks = [ kmeans.labels_ == i for i in range(n)]\n",
    "\n",
    "        j = 0\n",
    "        for mask in list_masks:\n",
    "            pt_mask = np.round(pt_arr[mask,:], 0).astype(np.int)\n",
    "            hist = np.sum(img[pt_mask[:,0], pt_mask[:,1]]) / np.sum(mask)\n",
    "            X_res[0,j] = hist\n",
    "            j += 1\n",
    "\n",
    "    return X_res"
   ]
  },
  {
   "cell_type": "code",
   "execution_count": 91,
   "metadata": {
    "pycharm": {
     "name": "#%%\n"
    }
   },
   "outputs": [],
   "source": [
    "cap = cv2.VideoCapture('test.mp4')\n",
    "\n",
    "if (cap.isOpened() == False):\n",
    "    print(\"Unable to read camera feed\")\n",
    "\n",
    "frame_width = int(cap.get(4))\n",
    "frame_height = int(cap.get(3))\n",
    "\n",
    "out = cv2.VideoWriter('scor_pin.avi',cv2.VideoWriter_fourcc('M','J','P','G'), 10, (frame_width,frame_height))\n",
    "\n",
    "while(True):\n",
    "    ret, frame = cap.read()\n",
    "\n",
    "    if ret == True:\n",
    "        frame = cv2.rotate(frame, cv2.ROTATE_90_CLOCKWISE)\n",
    "        X = compute_hist(frame)[np.newaxis, :, :]\n",
    "        class_object = np.argmax(model_scr_pin.predict(X))\n",
    "        position = (25, 350)\n",
    "        cv2.putText(frame, 'Class ' + str(class_object), position, cv2.FONT_HERSHEY_SIMPLEX, 2, (209, 80, 0, 255), 3)\n",
    "        out.write(frame)\n",
    "\n",
    "    else:\n",
    "        break\n",
    "\n",
    "cap.release()\n",
    "out.release()\n",
    "\n",
    "cv2.destroyAllWindows()"
   ]
  },
  {
   "cell_type": "code",
   "execution_count": 92,
   "metadata": {
    "pycharm": {
     "name": "#%%\n"
    }
   },
   "outputs": [],
   "source": [
    "cap = cv2.VideoCapture('test.mp4')\n",
    "\n",
    "if (cap.isOpened() == False):\n",
    "    print(\"Unable to read camera feed\")\n",
    "\n",
    "frame_width = int(cap.get(4))\n",
    "frame_height = int(cap.get(3))\n",
    "\n",
    "out = cv2.VideoWriter('scor_ban.avi',cv2.VideoWriter_fourcc('M','J','P','G'), 10, (frame_width,frame_height))\n",
    "\n",
    "while(True):\n",
    "    ret, frame = cap.read()\n",
    "\n",
    "    if ret == True:\n",
    "        frame = cv2.rotate(frame, cv2.ROTATE_90_CLOCKWISE)\n",
    "        X = compute_hist(frame)[np.newaxis, :, :]\n",
    "        class_object = np.argmax(model_scr_ban.predict(X))\n",
    "        position = (25, 350)\n",
    "        cv2.putText(frame, 'Class ' + str(class_object), position, cv2.FONT_HERSHEY_SIMPLEX, 2, (209, 80, 0, 255), 3)\n",
    "        out.write(frame)\n",
    "\n",
    "    else:\n",
    "        break\n",
    "\n",
    "cap.release()\n",
    "out.release()\n",
    "\n",
    "cv2.destroyAllWindows()"
   ]
  }
 ],
 "metadata": {
  "kernelspec": {
   "display_name": "Python 3",
   "language": "python",
   "name": "python3"
  },
  "language_info": {
   "codemirror_mode": {
    "name": "ipython",
    "version": 3
   },
   "file_extension": ".py",
   "mimetype": "text/x-python",
   "name": "python",
   "nbconvert_exporter": "python",
   "pygments_lexer": "ipython3",
   "version": "3.8.3"
  },
  "pycharm": {
   "stem_cell": {
    "cell_type": "raw",
    "source": [
     "import cv2\n",
     "import numpy as np\n",
     "import matplotlib.pyplot as plt\n",
     "import seaborn as sn\n",
     "import pandas as pd\n",
     "from sklearn.model_selection import train_test_split\n",
     "from sklearn.metrics import recall_score, precision_score, f1_score, accuracy_score, confusion_matrix\n",
     "from sklearn.cluster import KMeans\n",
     "import tensorflow.keras as keras\n",
     "import csv\n"
    ],
    "metadata": {
     "collapsed": false
    }
   }
  }
 },
 "nbformat": 4,
 "nbformat_minor": 1
}