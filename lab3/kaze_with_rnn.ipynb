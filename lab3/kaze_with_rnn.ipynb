{
 "cells": [
  {
   "cell_type": "code",
   "execution_count": 1,
   "metadata": {
    "pycharm": {
     "name": "#%%\n"
    }
   },
   "outputs": [],
   "source": [
    "import cv2\n",
    "import numpy as np\n",
    "import matplotlib.pyplot as plt\n",
    "import seaborn as sn\n",
    "import pandas as pd\n",
    "from sklearn.model_selection import train_test_split\n",
    "from sklearn.metrics import recall_score, precision_score, f1_score, accuracy_score, confusion_matrix\n",
    "from sklearn.svm import SVC\n",
    "from sklearn.tree import DecisionTreeClassifier\n",
    "from sklearn.cluster import KMeans\n",
    "import tensorflow.keras as keras\n",
    "import csv"
   ]
  },
  {
   "cell_type": "code",
   "execution_count": 2,
   "metadata": {
    "pycharm": {
     "name": "#%%\n"
    }
   },
   "outputs": [],
   "source": [
    "X_scr_pin = []\n",
    "Y_scr_pin = []\n",
    "\n",
    "X_scr_ban = []\n",
    "Y_scr_ban = []\n",
    "\n",
    "X_pin_ban = []\n",
    "Y_pin_ban = []\n",
    "\n",
    "with open('./scorpions_pinginus.csv', newline='') as csfile:\n",
    "    spamreader = csv.reader(csfile, delimiter=' ', quotechar='|')\n",
    "    for row in spamreader:\n",
    "        X_scr_pin.append(row[0])\n",
    "        Y_scr_pin.append(int(row[1]))\n",
    "\n",
    "with open('./scorpions_bananka.csv', newline='') as csfile:\n",
    "    spamreader = csv.reader(csfile, delimiter=' ', quotechar='|')\n",
    "    for row in spamreader:\n",
    "        X_scr_ban.append(row[0])\n",
    "        Y_scr_ban.append(int(row[1]))\n",
    "\n",
    "with open('./pinginus_bananka.csv', newline='') as csfile:\n",
    "    spamreader = csv.reader(csfile, delimiter=' ', quotechar='|')\n",
    "    for row in spamreader:\n",
    "        X_pin_ban.append(row[0])\n",
    "        Y_pin_ban.append(int(row[1]))"
   ]
  },
  {
   "cell_type": "code",
   "execution_count": 3,
   "metadata": {
    "pycharm": {
     "name": "#%%\n"
    }
   },
   "outputs": [],
   "source": [
    "X_train_scr_pin, X_test_scr_pin, Y_train_scr_pin, Y_test_scr_pin = train_test_split(X_scr_pin, Y_scr_pin, test_size=0.2)\n",
    "\n",
    "X_train_scr_ban, X_test_scr_ban, Y_train_scr_ban, Y_test_scr_ban = train_test_split(X_scr_ban, Y_scr_ban, test_size=0.2)\n",
    "\n",
    "X_train_pin_ban, X_test_pin_ban, Y_train_pin_ban, Y_test_pin_ban = train_test_split(X_pin_ban, Y_pin_ban, test_size=0.2)"
   ]
  },
  {
   "cell_type": "code",
   "execution_count": 4,
   "metadata": {
    "pycharm": {
     "name": "#%%\n"
    }
   },
   "outputs": [],
   "source": [
    "def compute_data(X, n=8):\n",
    "\n",
    "    kaze = cv2.KAZE_create()\n",
    "    m = len(X)\n",
    "    X_res = np.zeros((m,n))\n",
    "    i = 0\n",
    "    for x in X:\n",
    "        img = cv2.imread(x, 0)\n",
    "        img = cv2.resize(img, (128, 128))\n",
    "        kp, des = kaze.detectAndCompute(img, None)\n",
    "\n",
    "        pt = [i.pt for i in kp]\n",
    "        pt_arr = np.array(pt)\n",
    "        if pt_arr.shape[0] < n:\n",
    "            if len(pt) != 0:\n",
    "                for j in range(pt_arr.shape[0]):\n",
    "                    X_res[i,j] = 1 / pt_arr.shape[0]\n",
    "        else:\n",
    "            kmeans = KMeans(n_clusters=n, random_state=0).fit(pt_arr)\n",
    "            list_masks = [ kmeans.labels_ == i for i in range(n)]\n",
    "\n",
    "            j = 0\n",
    "            for mask in list_masks:\n",
    "                pt_mask = np.round(pt_arr[mask,:], 0).astype(np.int)\n",
    "                hist = np.sum(img[pt_mask[:,0], pt_mask[:,1]]) / np.sum(mask)\n",
    "                X_res[i,j] = hist\n",
    "                j += 1\n",
    "        i += 1\n",
    "\n",
    "    return X_res"
   ]
  },
  {
   "cell_type": "code",
   "execution_count": 5,
   "metadata": {
    "pycharm": {
     "name": "#%%\n"
    }
   },
   "outputs": [],
   "source": [
    "train_scr_pin = compute_data(X_train_scr_pin)\n",
    "train_scr_ban = compute_data(X_train_scr_ban)\n",
    "train_pin_ban = compute_data(X_train_pin_ban)\n",
    "\n",
    "y_train_scr_pin = np.zeros((train_scr_pin.shape[0], 2))\n",
    "y_train_scr_ban = np.zeros((train_scr_ban.shape[0], 2))\n",
    "y_train_pin_ban = np.zeros((train_pin_ban.shape[0], 2))\n",
    "\n",
    "for i in range(train_scr_pin.shape[0]):\n",
    "    y_train_scr_pin[i, Y_train_scr_pin[i]] = 1\n",
    "\n",
    "for i in range(train_scr_ban.shape[0]):\n",
    "    y_train_scr_ban[i, Y_train_scr_ban[i]] = 1\n",
    "\n",
    "for i in range(train_pin_ban.shape[0]):\n",
    "    y_train_pin_ban[i, Y_train_pin_ban[i]] = 1\n",
    "\n",
    "test_scr_pin = compute_data(X_test_scr_pin)\n",
    "test_scr_ban = compute_data(X_test_scr_ban)\n",
    "test_pin_ban = compute_data(X_test_pin_ban)\n",
    "\n",
    "y_test_scr_pin = np.array(Y_test_scr_pin)\n",
    "y_test_scr_ban = np.array(Y_test_scr_ban)\n",
    "y_test_pin_ban = np.array(Y_test_pin_ban)"
   ]
  },
  {
   "cell_type": "markdown",
   "metadata": {},
   "source": [
    "# LSTM"
   ]
  },
  {
   "cell_type": "code",
   "execution_count": 6,
   "metadata": {
    "pycharm": {
     "name": "#%%\n"
    }
   },
   "outputs": [],
   "source": [
    "def model(n=8):\n",
    "    key_points = keras.layers.Input(shape=(1,n), dtype='float32')\n",
    "    X = keras.layers.BatchNormalization()(key_points)\n",
    "    X = keras.layers.LSTM(512, return_sequences=True)(X)\n",
    "    X = keras.layers.Dropout(rate=0.5)(X)\n",
    "    X = keras.layers.LSTM(512, return_sequences=True)(X)\n",
    "    X = keras.layers.Dropout(rate=0.5)(X)\n",
    "    X = keras.layers.LSTM(512, return_sequences=False)(X)\n",
    "    X = keras.layers.Dropout(rate=0.5)(X)\n",
    "    X = keras.layers.Dense(units=2)(X)\n",
    "    X = keras.layers.Activation(activation='softmax')(X)\n",
    "\n",
    "    model = keras.Model(inputs=key_points, outputs=X)\n",
    "\n",
    "    return model"
   ]
  },
  {
   "cell_type": "code",
   "execution_count": 7,
   "metadata": {
    "pycharm": {
     "name": "#%%\n"
    }
   },
   "outputs": [
    {
     "name": "stdout",
     "output_type": "stream",
     "text": [
      "Model: \"functional_1\"\n",
      "_________________________________________________________________\n",
      "Layer (type)                 Output Shape              Param #   \n",
      "=================================================================\n",
      "input_1 (InputLayer)         [(None, 1, 8)]            0         \n",
      "_________________________________________________________________\n",
      "batch_normalization (BatchNo (None, 1, 8)              32        \n",
      "_________________________________________________________________\n",
      "lstm (LSTM)                  (None, 1, 512)            1067008   \n",
      "_________________________________________________________________\n",
      "dropout (Dropout)            (None, 1, 512)            0         \n",
      "_________________________________________________________________\n",
      "lstm_1 (LSTM)                (None, 1, 512)            2099200   \n",
      "_________________________________________________________________\n",
      "dropout_1 (Dropout)          (None, 1, 512)            0         \n",
      "_________________________________________________________________\n",
      "lstm_2 (LSTM)                (None, 512)               2099200   \n",
      "_________________________________________________________________\n",
      "dropout_2 (Dropout)          (None, 512)               0         \n",
      "_________________________________________________________________\n",
      "dense (Dense)                (None, 2)                 1026      \n",
      "_________________________________________________________________\n",
      "activation (Activation)      (None, 2)                 0         \n",
      "=================================================================\n",
      "Total params: 5,266,466\n",
      "Trainable params: 5,266,450\n",
      "Non-trainable params: 16\n",
      "_________________________________________________________________\n"
     ]
    }
   ],
   "source": [
    "example = model(n=8)\n",
    "example.summary()"
   ]
  },
  {
   "cell_type": "code",
   "execution_count": 8,
   "metadata": {
    "pycharm": {
     "name": "#%%\n"
    }
   },
   "outputs": [],
   "source": [
    "model_scr_pin = model()\n",
    "model_scr_ban = model()\n",
    "model_pin_ban = model()"
   ]
  },
  {
   "cell_type": "code",
   "execution_count": 9,
   "metadata": {
    "pycharm": {
     "name": "#%%\n"
    }
   },
   "outputs": [],
   "source": [
    "model_scr_pin.compile(loss='categorical_crossentropy', optimizer='adam', metrics=['accuracy'])\n",
    "model_scr_ban.compile(loss='categorical_crossentropy', optimizer='adam', metrics=['accuracy'])\n",
    "model_pin_ban.compile(loss='categorical_crossentropy', optimizer='adam', metrics=['accuracy'])"
   ]
  },
  {
   "cell_type": "code",
   "execution_count": 10,
   "metadata": {
    "pycharm": {
     "name": "#%%\n"
    }
   },
   "outputs": [],
   "source": [
    "X_train_scr_pin_arr = train_scr_pin[:, np.newaxis, :]\n",
    "X_train_scr_ban_arr = train_scr_ban[:, np.newaxis, :]\n",
    "X_train_pin_ban_arr = train_pin_ban[:, np.newaxis, :]\n",
    "\n",
    "\n",
    "X_test_scr_pin_arr = test_scr_pin[:,np.newaxis, :]\n",
    "X_test_scr_ban_arr = test_scr_ban[:,np.newaxis, :]\n",
    "X_test_pin_ban_arr = test_pin_ban[:,np.newaxis, :]"
   ]
  },
  {
   "cell_type": "code",
   "execution_count": 43,
   "metadata": {
    "pycharm": {
     "name": "#%%\n"
    }
   },
   "outputs": [
    {
     "name": "stdout",
     "output_type": "stream",
     "text": [
      "Epoch 1/52\n",
      "22/22 [==============================] - 1s 26ms/step - loss: 0.6337 - accuracy: 0.6032\n",
      "Epoch 2/52\n",
      "22/22 [==============================] - 1s 27ms/step - loss: 0.6212 - accuracy: 0.6372\n",
      "Epoch 3/52\n",
      "22/22 [==============================] - 1s 26ms/step - loss: 0.6275 - accuracy: 0.6032\n",
      "Epoch 4/52\n",
      "22/22 [==============================] - 1s 27ms/step - loss: 0.6049 - accuracy: 0.6475\n",
      "Epoch 5/52\n",
      "22/22 [==============================] - 1s 30ms/step - loss: 0.6247 - accuracy: 0.6283\n",
      "Epoch 6/52\n",
      "22/22 [==============================] - 1s 30ms/step - loss: 0.6164 - accuracy: 0.6327\n",
      "Epoch 7/52\n",
      "22/22 [==============================] - 1s 30ms/step - loss: 0.6215 - accuracy: 0.6445\n",
      "Epoch 8/52\n",
      "22/22 [==============================] - 1s 26ms/step - loss: 0.6070 - accuracy: 0.6372\n",
      "Epoch 9/52\n",
      "22/22 [==============================] - 1s 26ms/step - loss: 0.6103 - accuracy: 0.6445\n",
      "Epoch 10/52\n",
      "22/22 [==============================] - 1s 26ms/step - loss: 0.5860 - accuracy: 0.6578\n",
      "Epoch 11/52\n",
      "22/22 [==============================] - 1s 26ms/step - loss: 0.6035 - accuracy: 0.6386\n",
      "Epoch 12/52\n",
      "22/22 [==============================] - 1s 26ms/step - loss: 0.6066 - accuracy: 0.6504\n",
      "Epoch 13/52\n",
      "22/22 [==============================] - 1s 26ms/step - loss: 0.6159 - accuracy: 0.6327\n",
      "Epoch 14/52\n",
      "22/22 [==============================] - 1s 26ms/step - loss: 0.5873 - accuracy: 0.6622\n",
      "Epoch 15/52\n",
      "22/22 [==============================] - 1s 27ms/step - loss: 0.5962 - accuracy: 0.6519\n",
      "Epoch 16/52\n",
      "22/22 [==============================] - 1s 26ms/step - loss: 0.5955 - accuracy: 0.6549\n",
      "Epoch 17/52\n",
      "22/22 [==============================] - 1s 30ms/step - loss: 0.5866 - accuracy: 0.6726\n",
      "Epoch 18/52\n",
      "22/22 [==============================] - 1s 31ms/step - loss: 0.5962 - accuracy: 0.6652\n",
      "Epoch 19/52\n",
      "22/22 [==============================] - 1s 27ms/step - loss: 0.5932 - accuracy: 0.6740\n",
      "Epoch 20/52\n",
      "22/22 [==============================] - 1s 26ms/step - loss: 0.5806 - accuracy: 0.6726\n",
      "Epoch 21/52\n",
      "22/22 [==============================] - 1s 27ms/step - loss: 0.5657 - accuracy: 0.6873\n",
      "Epoch 22/52\n",
      "22/22 [==============================] - 1s 26ms/step - loss: 0.5765 - accuracy: 0.6799\n",
      "Epoch 23/52\n",
      "22/22 [==============================] - 1s 26ms/step - loss: 0.6004 - accuracy: 0.6401\n",
      "Epoch 24/52\n",
      "22/22 [==============================] - 1s 26ms/step - loss: 0.5937 - accuracy: 0.6578\n",
      "Epoch 25/52\n",
      "22/22 [==============================] - 1s 27ms/step - loss: 0.5906 - accuracy: 0.6799\n",
      "Epoch 26/52\n",
      "22/22 [==============================] - 1s 32ms/step - loss: 0.5689 - accuracy: 0.6622\n",
      "Epoch 27/52\n",
      "22/22 [==============================] - 1s 27ms/step - loss: 0.5910 - accuracy: 0.6563\n",
      "Epoch 28/52\n",
      "22/22 [==============================] - 1s 27ms/step - loss: 0.5830 - accuracy: 0.6888\n",
      "Epoch 29/52\n",
      "22/22 [==============================] - 1s 31ms/step - loss: 0.5708 - accuracy: 0.6637\n",
      "Epoch 30/52\n",
      "22/22 [==============================] - 1s 29ms/step - loss: 0.5648 - accuracy: 0.6903\n",
      "Epoch 31/52\n",
      "22/22 [==============================] - 1s 33ms/step - loss: 0.5640 - accuracy: 0.6917\n",
      "Epoch 32/52\n",
      "22/22 [==============================] - 1s 30ms/step - loss: 0.5947 - accuracy: 0.6490\n",
      "Epoch 33/52\n",
      "22/22 [==============================] - 1s 32ms/step - loss: 0.5635 - accuracy: 0.6917\n",
      "Epoch 34/52\n",
      "22/22 [==============================] - 1s 30ms/step - loss: 0.5913 - accuracy: 0.6593\n",
      "Epoch 35/52\n",
      "22/22 [==============================] - 1s 32ms/step - loss: 0.5795 - accuracy: 0.6770\n",
      "Epoch 36/52\n",
      "22/22 [==============================] - 1s 31ms/step - loss: 0.5653 - accuracy: 0.6785\n",
      "Epoch 37/52\n",
      "22/22 [==============================] - 1s 30ms/step - loss: 0.5807 - accuracy: 0.6711\n",
      "Epoch 38/52\n",
      "22/22 [==============================] - 1s 30ms/step - loss: 0.5714 - accuracy: 0.6873\n",
      "Epoch 39/52\n",
      "22/22 [==============================] - 1s 32ms/step - loss: 0.5552 - accuracy: 0.7006\n",
      "Epoch 40/52\n",
      "22/22 [==============================] - 1s 32ms/step - loss: 0.5603 - accuracy: 0.6873\n",
      "Epoch 41/52\n",
      "22/22 [==============================] - 1s 31ms/step - loss: 0.5605 - accuracy: 0.7168\n",
      "Epoch 42/52\n",
      "22/22 [==============================] - 1s 31ms/step - loss: 0.5552 - accuracy: 0.6991\n",
      "Epoch 43/52\n",
      "22/22 [==============================] - 1s 27ms/step - loss: 0.5452 - accuracy: 0.7021\n",
      "Epoch 44/52\n",
      "22/22 [==============================] - 1s 26ms/step - loss: 0.5520 - accuracy: 0.6903\n",
      "Epoch 45/52\n",
      "22/22 [==============================] - 1s 27ms/step - loss: 0.5411 - accuracy: 0.7094\n",
      "Epoch 46/52\n",
      "22/22 [==============================] - 1s 27ms/step - loss: 0.5294 - accuracy: 0.7006\n",
      "Epoch 47/52\n",
      "22/22 [==============================] - 1s 29ms/step - loss: 0.5370 - accuracy: 0.6932\n",
      "Epoch 48/52\n",
      "22/22 [==============================] - 1s 28ms/step - loss: 0.5269 - accuracy: 0.7050\n",
      "Epoch 49/52\n",
      "22/22 [==============================] - 1s 27ms/step - loss: 0.5534 - accuracy: 0.7065\n",
      "Epoch 50/52\n",
      "22/22 [==============================] - 1s 27ms/step - loss: 0.5413 - accuracy: 0.7094\n",
      "Epoch 51/52\n",
      "22/22 [==============================] - 1s 27ms/step - loss: 0.5135 - accuracy: 0.7257\n",
      "Epoch 52/52\n",
      "22/22 [==============================] - 1s 27ms/step - loss: 0.5502 - accuracy: 0.6903\n"
     ]
    },
    {
     "data": {
      "text/plain": [
       "<tensorflow.python.keras.callbacks.History at 0x7f3d601d9100>"
      ]
     },
     "execution_count": 43,
     "metadata": {},
     "output_type": "execute_result"
    }
   ],
   "source": [
    "model_scr_pin.fit(X_train_scr_pin_arr, y_train_scr_pin, epochs=52, batch_size=32, shuffle=True)"
   ]
  },
  {
   "cell_type": "code",
   "execution_count": 12,
   "metadata": {
    "pycharm": {
     "name": "#%%\n"
    }
   },
   "outputs": [
    {
     "name": "stdout",
     "output_type": "stream",
     "text": [
      "Epoch 1/52\n",
      "21/21 [==============================] - 1s 28ms/step - loss: 0.6933 - accuracy: 0.4841\n",
      "Epoch 2/52\n",
      "21/21 [==============================] - 1s 28ms/step - loss: 0.6920 - accuracy: 0.4856\n",
      "Epoch 3/52\n",
      "21/21 [==============================] - 1s 27ms/step - loss: 0.6823 - accuracy: 0.5220\n",
      "Epoch 4/52\n",
      "21/21 [==============================] - 1s 27ms/step - loss: 0.6687 - accuracy: 0.5387\n",
      "Epoch 5/52\n",
      "21/21 [==============================] - 1s 27ms/step - loss: 0.6524 - accuracy: 0.5948\n",
      "Epoch 6/52\n",
      "21/21 [==============================] - 1s 27ms/step - loss: 0.6521 - accuracy: 0.6115\n",
      "Epoch 7/52\n",
      "21/21 [==============================] - 1s 27ms/step - loss: 0.6470 - accuracy: 0.6024\n",
      "Epoch 8/52\n",
      "21/21 [==============================] - 1s 25ms/step - loss: 0.6431 - accuracy: 0.5994\n",
      "Epoch 9/52\n",
      "21/21 [==============================] - 1s 25ms/step - loss: 0.6450 - accuracy: 0.6146\n",
      "Epoch 10/52\n",
      "21/21 [==============================] - 1s 25ms/step - loss: 0.6543 - accuracy: 0.5979\n",
      "Epoch 11/52\n",
      "21/21 [==============================] - 1s 26ms/step - loss: 0.6392 - accuracy: 0.6313\n",
      "Epoch 12/52\n",
      "21/21 [==============================] - 1s 25ms/step - loss: 0.6355 - accuracy: 0.6237\n",
      "Epoch 13/52\n",
      "21/21 [==============================] - 1s 25ms/step - loss: 0.6368 - accuracy: 0.6115\n",
      "Epoch 14/52\n",
      "21/21 [==============================] - 1s 25ms/step - loss: 0.6385 - accuracy: 0.6146\n",
      "Epoch 15/52\n",
      "21/21 [==============================] - 1s 25ms/step - loss: 0.6493 - accuracy: 0.6176\n",
      "Epoch 16/52\n",
      "21/21 [==============================] - 1s 26ms/step - loss: 0.6388 - accuracy: 0.5948\n",
      "Epoch 17/52\n",
      "21/21 [==============================] - 1s 25ms/step - loss: 0.6368 - accuracy: 0.6100\n",
      "Epoch 18/52\n",
      "21/21 [==============================] - 1s 25ms/step - loss: 0.6365 - accuracy: 0.6085\n",
      "Epoch 19/52\n",
      "21/21 [==============================] - 1s 25ms/step - loss: 0.6399 - accuracy: 0.6070\n",
      "Epoch 20/52\n",
      "21/21 [==============================] - 1s 25ms/step - loss: 0.6373 - accuracy: 0.6222\n",
      "Epoch 21/52\n",
      "21/21 [==============================] - 1s 26ms/step - loss: 0.6419 - accuracy: 0.6161\n",
      "Epoch 22/52\n",
      "21/21 [==============================] - 1s 25ms/step - loss: 0.6349 - accuracy: 0.6464\n",
      "Epoch 23/52\n",
      "21/21 [==============================] - 1s 25ms/step - loss: 0.6448 - accuracy: 0.6146\n",
      "Epoch 24/52\n",
      "21/21 [==============================] - 1s 25ms/step - loss: 0.6338 - accuracy: 0.5933\n",
      "Epoch 25/52\n",
      "21/21 [==============================] - 1s 25ms/step - loss: 0.6234 - accuracy: 0.6206\n",
      "Epoch 26/52\n",
      "21/21 [==============================] - 1s 26ms/step - loss: 0.6243 - accuracy: 0.6267\n",
      "Epoch 27/52\n",
      "21/21 [==============================] - 1s 25ms/step - loss: 0.6267 - accuracy: 0.6146\n",
      "Epoch 28/52\n",
      "21/21 [==============================] - 1s 25ms/step - loss: 0.6310 - accuracy: 0.6146\n",
      "Epoch 29/52\n",
      "21/21 [==============================] - 1s 25ms/step - loss: 0.6377 - accuracy: 0.6297\n",
      "Epoch 30/52\n",
      "21/21 [==============================] - 1s 25ms/step - loss: 0.6417 - accuracy: 0.5918\n",
      "Epoch 31/52\n",
      "21/21 [==============================] - 1s 25ms/step - loss: 0.6204 - accuracy: 0.6161\n",
      "Epoch 32/52\n",
      "21/21 [==============================] - 1s 26ms/step - loss: 0.6352 - accuracy: 0.6176\n",
      "Epoch 33/52\n",
      "21/21 [==============================] - 1s 25ms/step - loss: 0.6203 - accuracy: 0.6282\n",
      "Epoch 34/52\n",
      "21/21 [==============================] - 1s 25ms/step - loss: 0.6226 - accuracy: 0.6206\n",
      "Epoch 35/52\n",
      "21/21 [==============================] - 1s 25ms/step - loss: 0.6148 - accuracy: 0.6510\n",
      "Epoch 36/52\n",
      "21/21 [==============================] - 1s 25ms/step - loss: 0.6161 - accuracy: 0.6434\n",
      "Epoch 37/52\n",
      "21/21 [==============================] - 1s 26ms/step - loss: 0.6281 - accuracy: 0.6358\n",
      "Epoch 38/52\n",
      "21/21 [==============================] - 1s 25ms/step - loss: 0.6201 - accuracy: 0.6404\n",
      "Epoch 39/52\n",
      "21/21 [==============================] - 1s 25ms/step - loss: 0.6276 - accuracy: 0.6191\n",
      "Epoch 40/52\n",
      "21/21 [==============================] - 1s 25ms/step - loss: 0.6224 - accuracy: 0.6131\n",
      "Epoch 41/52\n",
      "21/21 [==============================] - 1s 25ms/step - loss: 0.6443 - accuracy: 0.6161\n",
      "Epoch 42/52\n",
      "21/21 [==============================] - 1s 26ms/step - loss: 0.6264 - accuracy: 0.6297\n",
      "Epoch 43/52\n",
      "21/21 [==============================] - 1s 26ms/step - loss: 0.6207 - accuracy: 0.6191\n",
      "Epoch 44/52\n",
      "21/21 [==============================] - 1s 25ms/step - loss: 0.6269 - accuracy: 0.6358\n",
      "Epoch 45/52\n",
      "21/21 [==============================] - 1s 25ms/step - loss: 0.6278 - accuracy: 0.6343\n",
      "Epoch 46/52\n",
      "21/21 [==============================] - 1s 25ms/step - loss: 0.6032 - accuracy: 0.6525\n",
      "Epoch 47/52\n",
      "21/21 [==============================] - 1s 25ms/step - loss: 0.6010 - accuracy: 0.6555\n",
      "Epoch 48/52\n",
      "21/21 [==============================] - 1s 26ms/step - loss: 0.6136 - accuracy: 0.6434\n",
      "Epoch 49/52\n",
      "21/21 [==============================] - 1s 26ms/step - loss: 0.6089 - accuracy: 0.6252\n",
      "Epoch 50/52\n",
      "21/21 [==============================] - 1s 26ms/step - loss: 0.6076 - accuracy: 0.6525\n",
      "Epoch 51/52\n",
      "21/21 [==============================] - 1s 26ms/step - loss: 0.6137 - accuracy: 0.6434\n",
      "Epoch 52/52\n",
      "21/21 [==============================] - 1s 25ms/step - loss: 0.6051 - accuracy: 0.6601\n"
     ]
    },
    {
     "data": {
      "text/plain": [
       "<tensorflow.python.keras.callbacks.History at 0x7f3dc008eac0>"
      ]
     },
     "execution_count": 12,
     "metadata": {},
     "output_type": "execute_result"
    }
   ],
   "source": [
    "model_scr_ban.fit(X_train_scr_ban_arr, y_train_scr_ban, epochs=52, batch_size=32, shuffle=True)"
   ]
  },
  {
   "cell_type": "code",
   "execution_count": 13,
   "metadata": {
    "pycharm": {
     "name": "#%%\n"
    }
   },
   "outputs": [
    {
     "name": "stdout",
     "output_type": "stream",
     "text": [
      "Epoch 1/52\n",
      "22/22 [==============================] - 1s 25ms/step - loss: 0.6928 - accuracy: 0.4941\n",
      "Epoch 2/52\n",
      "22/22 [==============================] - 1s 25ms/step - loss: 0.6905 - accuracy: 0.5162\n",
      "Epoch 3/52\n",
      "22/22 [==============================] - 1s 26ms/step - loss: 0.6823 - accuracy: 0.5590\n",
      "Epoch 4/52\n",
      "22/22 [==============================] - 1s 25ms/step - loss: 0.6610 - accuracy: 0.6180\n",
      "Epoch 5/52\n",
      "22/22 [==============================] - 1s 26ms/step - loss: 0.6549 - accuracy: 0.6180\n",
      "Epoch 6/52\n",
      "22/22 [==============================] - 1s 26ms/step - loss: 0.6415 - accuracy: 0.6726\n",
      "Epoch 7/52\n",
      "22/22 [==============================] - 1s 25ms/step - loss: 0.6311 - accuracy: 0.6563\n",
      "Epoch 8/52\n",
      "22/22 [==============================] - 1s 26ms/step - loss: 0.6293 - accuracy: 0.6534\n",
      "Epoch 9/52\n",
      "22/22 [==============================] - 1s 25ms/step - loss: 0.6230 - accuracy: 0.6593\n",
      "Epoch 10/52\n",
      "22/22 [==============================] - 1s 26ms/step - loss: 0.6414 - accuracy: 0.6519\n",
      "Epoch 11/52\n",
      "22/22 [==============================] - 1s 26ms/step - loss: 0.6272 - accuracy: 0.6519\n",
      "Epoch 12/52\n",
      "22/22 [==============================] - 1s 26ms/step - loss: 0.6190 - accuracy: 0.6622\n",
      "Epoch 13/52\n",
      "22/22 [==============================] - 1s 26ms/step - loss: 0.6194 - accuracy: 0.6504\n",
      "Epoch 14/52\n",
      "22/22 [==============================] - 1s 25ms/step - loss: 0.6141 - accuracy: 0.6504\n",
      "Epoch 15/52\n",
      "22/22 [==============================] - 1s 26ms/step - loss: 0.6079 - accuracy: 0.6549\n",
      "Epoch 16/52\n",
      "22/22 [==============================] - 1s 26ms/step - loss: 0.6273 - accuracy: 0.6667\n",
      "Epoch 17/52\n",
      "22/22 [==============================] - 1s 25ms/step - loss: 0.6073 - accuracy: 0.6814\n",
      "Epoch 18/52\n",
      "22/22 [==============================] - 1s 26ms/step - loss: 0.6146 - accuracy: 0.6593\n",
      "Epoch 19/52\n",
      "22/22 [==============================] - 1s 26ms/step - loss: 0.6061 - accuracy: 0.6770\n",
      "Epoch 20/52\n",
      "22/22 [==============================] - 1s 26ms/step - loss: 0.6031 - accuracy: 0.6755\n",
      "Epoch 21/52\n",
      "22/22 [==============================] - 1s 26ms/step - loss: 0.6069 - accuracy: 0.6667\n",
      "Epoch 22/52\n",
      "22/22 [==============================] - 1s 25ms/step - loss: 0.6065 - accuracy: 0.6726\n",
      "Epoch 23/52\n",
      "22/22 [==============================] - 1s 26ms/step - loss: 0.6119 - accuracy: 0.6549\n",
      "Epoch 24/52\n",
      "22/22 [==============================] - 1s 26ms/step - loss: 0.6107 - accuracy: 0.6578\n",
      "Epoch 25/52\n",
      "22/22 [==============================] - 1s 26ms/step - loss: 0.5840 - accuracy: 0.6903\n",
      "Epoch 26/52\n",
      "22/22 [==============================] - 1s 25ms/step - loss: 0.6002 - accuracy: 0.6814\n",
      "Epoch 27/52\n",
      "22/22 [==============================] - 1s 25ms/step - loss: 0.5854 - accuracy: 0.6799\n",
      "Epoch 28/52\n",
      "22/22 [==============================] - 1s 25ms/step - loss: 0.5952 - accuracy: 0.6844\n",
      "Epoch 29/52\n",
      "22/22 [==============================] - 1s 25ms/step - loss: 0.5804 - accuracy: 0.6888\n",
      "Epoch 30/52\n",
      "22/22 [==============================] - 1s 26ms/step - loss: 0.5920 - accuracy: 0.6667\n",
      "Epoch 31/52\n",
      "22/22 [==============================] - 1s 25ms/step - loss: 0.5905 - accuracy: 0.6681\n",
      "Epoch 32/52\n",
      "22/22 [==============================] - 1s 26ms/step - loss: 0.5853 - accuracy: 0.6858\n",
      "Epoch 33/52\n",
      "22/22 [==============================] - 1s 26ms/step - loss: 0.5957 - accuracy: 0.6593\n",
      "Epoch 34/52\n",
      "22/22 [==============================] - 1s 26ms/step - loss: 0.5812 - accuracy: 0.6917\n",
      "Epoch 35/52\n",
      "22/22 [==============================] - 1s 26ms/step - loss: 0.5877 - accuracy: 0.6873\n",
      "Epoch 36/52\n",
      "22/22 [==============================] - 1s 26ms/step - loss: 0.5746 - accuracy: 0.7050\n",
      "Epoch 37/52\n",
      "22/22 [==============================] - 1s 26ms/step - loss: 0.5980 - accuracy: 0.6844\n",
      "Epoch 38/52\n",
      "22/22 [==============================] - 1s 26ms/step - loss: 0.5915 - accuracy: 0.6932\n",
      "Epoch 39/52\n",
      "22/22 [==============================] - 1s 25ms/step - loss: 0.5855 - accuracy: 0.6814\n",
      "Epoch 40/52\n",
      "22/22 [==============================] - 1s 26ms/step - loss: 0.5958 - accuracy: 0.6637\n",
      "Epoch 41/52\n",
      "22/22 [==============================] - 1s 25ms/step - loss: 0.5720 - accuracy: 0.7050\n",
      "Epoch 42/52\n",
      "22/22 [==============================] - 1s 26ms/step - loss: 0.5849 - accuracy: 0.6844\n",
      "Epoch 43/52\n",
      "22/22 [==============================] - 1s 26ms/step - loss: 0.5623 - accuracy: 0.7065\n",
      "Epoch 44/52\n",
      "22/22 [==============================] - 1s 25ms/step - loss: 0.5921 - accuracy: 0.7035\n",
      "Epoch 45/52\n",
      "22/22 [==============================] - 1s 26ms/step - loss: 0.5688 - accuracy: 0.7021\n",
      "Epoch 46/52\n",
      "22/22 [==============================] - 1s 25ms/step - loss: 0.5643 - accuracy: 0.7065\n",
      "Epoch 47/52\n",
      "22/22 [==============================] - 1s 25ms/step - loss: 0.5820 - accuracy: 0.6903\n",
      "Epoch 48/52\n",
      "22/22 [==============================] - 1s 26ms/step - loss: 0.5638 - accuracy: 0.7035\n",
      "Epoch 49/52\n",
      "22/22 [==============================] - 1s 25ms/step - loss: 0.5755 - accuracy: 0.7065\n",
      "Epoch 50/52\n",
      "22/22 [==============================] - 1s 26ms/step - loss: 0.5729 - accuracy: 0.6844\n",
      "Epoch 51/52\n",
      "22/22 [==============================] - 1s 26ms/step - loss: 0.5789 - accuracy: 0.6888\n",
      "Epoch 52/52\n",
      "22/22 [==============================] - 1s 26ms/step - loss: 0.5674 - accuracy: 0.7021\n"
     ]
    },
    {
     "data": {
      "text/plain": [
       "<tensorflow.python.keras.callbacks.History at 0x7f3d7eec3a90>"
      ]
     },
     "execution_count": 13,
     "metadata": {},
     "output_type": "execute_result"
    }
   ],
   "source": [
    "model_pin_ban.fit(X_train_pin_ban_arr, y_train_pin_ban, epochs=52, batch_size=32, shuffle=True)"
   ]
  },
  {
   "cell_type": "code",
   "execution_count": 44,
   "metadata": {
    "pycharm": {
     "name": "#%%\n"
    }
   },
   "outputs": [],
   "source": [
    "y_pred_scr_pin = model_scr_pin.predict(X_test_scr_pin_arr)\n",
    "y_pred_scr_pin_target = np.argmax(y_pred_scr_pin, axis=1)\n",
    "\n",
    "y_pred_scr_ban = model_scr_ban.predict(X_test_scr_ban_arr)\n",
    "y_pred_scr_ban_target = np.argmax(y_pred_scr_ban, axis=1)\n",
    "\n",
    "y_pred_pin_ban = model_pin_ban.predict(X_test_pin_ban_arr)\n",
    "y_pred_pin_ban_target = np.argmax(y_pred_pin_ban, axis=1)"
   ]
  },
  {
   "cell_type": "code",
   "execution_count": 45,
   "metadata": {
    "pycharm": {
     "name": "#%%\n"
    }
   },
   "outputs": [],
   "source": [
    "accuracy_scr_pin = recall_score(y_test_scr_pin, y_pred_scr_pin_target)\n",
    "accuracy_scr_ban = recall_score(y_test_scr_ban, y_pred_scr_ban_target)\n",
    "accuracy_pin_ban = recall_score(y_test_pin_ban, y_pred_pin_ban_target)\n",
    "\n",
    "recall_scr_pin = recall_score(y_test_scr_pin, y_pred_scr_pin_target)\n",
    "recall_scr_ban = recall_score(y_test_scr_ban, y_pred_scr_ban_target)\n",
    "recall_pin_ban = recall_score(y_test_pin_ban, y_pred_pin_ban_target)\n",
    "\n",
    "precision_scr_pin = precision_score(y_test_scr_pin, y_pred_scr_pin_target)\n",
    "precision_scr_ban = precision_score(y_test_scr_ban, y_pred_scr_ban_target)\n",
    "precision_pin_ban = precision_score(y_test_pin_ban, y_pred_pin_ban_target)\n",
    "\n",
    "f1_scr_pin = f1_score(y_test_scr_pin, y_pred_scr_pin_target)\n",
    "f1_scr_ban = f1_score(y_test_scr_ban, y_pred_scr_ban_target)\n",
    "f1_pin_ban = f1_score(y_test_pin_ban, y_pred_pin_ban_target)\n",
    "\n",
    "confusion_matrix_scr_pin = pd.DataFrame(confusion_matrix(y_test_scr_pin, y_pred_scr_pin_target))\n",
    "confusion_matrix_scr_ban = pd.DataFrame(confusion_matrix(y_test_scr_ban, y_pred_scr_ban_target))\n",
    "confusion_matrix_pin_ban = pd.DataFrame(confusion_matrix(y_test_pin_ban, y_pred_pin_ban_target))"
   ]
  },
  {
   "cell_type": "code",
   "execution_count": 46,
   "metadata": {
    "pycharm": {
     "name": "#%%\n"
    }
   },
   "outputs": [
    {
     "name": "stdout",
     "output_type": "stream",
     "text": [
      "Scorpions Pinginus\n",
      "accuracy: 0.5238095238095238\n",
      "recall: 0.5238095238095238\n",
      "precission: 0.5641025641025641\n",
      "f1: 0.5432098765432098\n"
     ]
    },
    {
     "data": {
      "text/plain": [
       "<matplotlib.axes._subplots.AxesSubplot at 0x7f3d7c34f370>"
      ]
     },
     "execution_count": 46,
     "metadata": {},
     "output_type": "execute_result"
    },
    {
     "data": {
      "image/png": "[encoded data removed]",
      "text/plain": [
       "<Figure size 432x288 with 2 Axes>"
      ]
     },
     "metadata": {},
     "output_type": "display_data"
    }
   ],
   "source": [
    "print('Scorpions Pinginus')\n",
    "print(f'accuracy: {accuracy_scr_pin}')\n",
    "print(f'recall: {recall_scr_pin}')\n",
    "print(f'precission: {precision_scr_pin}')\n",
    "print(f'f1: {f1_scr_pin}')\n",
    "\n",
    "sn.set(font_scale=1.4)\n",
    "sn.heatmap(confusion_matrix_scr_pin, annot=True, annot_kws={'size': 16})\n"
   ]
  },
  {
   "cell_type": "code",
   "execution_count": 17,
   "metadata": {
    "pycharm": {
     "name": "#%%\n"
    }
   },
   "outputs": [
    {
     "name": "stdout",
     "output_type": "stream",
     "text": [
      "Scorpions Bananka\n",
      "accuracy: 0.5232558139534884\n",
      "recall: 0.5232558139534884\n",
      "precission: 0.6428571428571429\n",
      "f1: 0.5769230769230771\n"
     ]
    },
    {
     "data": {
      "text/plain": [
       "<matplotlib.axes._subplots.AxesSubplot at 0x7f3d7c68dfd0>"
      ]
     },
     "execution_count": 17,
     "metadata": {},
     "output_type": "execute_result"
    },
    {
     "data": {
      "image/png": "[encoded data removed]",
      "text/plain": [
       "<Figure size 432x288 with 2 Axes>"
      ]
     },
     "metadata": {},
     "output_type": "display_data"
    }
   ],
   "source": [
    "print('Scorpions Bananka')\n",
    "print(f'accuracy: {accuracy_scr_ban}')\n",
    "print(f'recall: {recall_scr_ban}')\n",
    "print(f'precission: {precision_scr_ban}')\n",
    "print(f'f1: {f1_scr_ban}')\n",
    "\n",
    "sn.set(font_scale=1.4)\n",
    "sn.heatmap(confusion_matrix_scr_ban, annot=True, annot_kws={'size': 16})"
   ]
  },
  {
   "cell_type": "code",
   "execution_count": 18,
   "metadata": {
    "pycharm": {
     "name": "#%%\n"
    }
   },
   "outputs": [
    {
     "name": "stdout",
     "output_type": "stream",
     "text": [
      "Pinginus Bananka\n",
      "accuracy: 0.7209302325581395\n",
      "recall: 0.7209302325581395\n",
      "precission: 0.7045454545454546\n",
      "f1: 0.7126436781609196\n"
     ]
    },
    {
     "data": {
      "text/plain": [
       "<matplotlib.axes._subplots.AxesSubplot at 0x7f3d7c5bab20>"
      ]
     },
     "execution_count": 18,
     "metadata": {},
     "output_type": "execute_result"
    },
    {
     "data": {
      "image/png": "[encoded data removed]",
      "text/plain": [
       "<Figure size 432x288 with 2 Axes>"
      ]
     },
     "metadata": {},
     "output_type": "display_data"
    }
   ],
   "source": [
    "print('Pinginus Bananka')\n",
    "print(f'accuracy: {accuracy_pin_ban}')\n",
    "print(f'recall: {recall_pin_ban}')\n",
    "print(f'precission: {precision_pin_ban}')\n",
    "print(f'f1: {f1_pin_ban}')\n",
    "\n",
    "sn.set(font_scale=1.4)\n",
    "sn.heatmap(confusion_matrix_pin_ban, annot=True, annot_kws={'size': 16})"
   ]
  },
  {
   "cell_type": "code",
   "execution_count": 19,
   "metadata": {
    "pycharm": {
     "name": "#%%\n"
    }
   },
   "outputs": [],
   "source": [
    "def compute_hist(frame, n=8):\n",
    "    kaze = cv2.KAZE_create()\n",
    "    m = 1\n",
    "    X_res = np.zeros((m,n))\n",
    "\n",
    "    img = cv2.resize(cv2.cvtColor(frame, cv2.COLOR_BGR2GRAY), (128, 128))\n",
    "    kp, des = kaze.detectAndCompute(img, None)\n",
    "\n",
    "    pt = [i.pt for i in kp]\n",
    "    pt_arr = np.array(pt)\n",
    "\n",
    "    if pt_arr.shape[0] < n:\n",
    "        if len(pt) != 0:\n",
    "            for j in range(pt_arr.shape[0]):\n",
    "                X_res[0,j] = 1 / pt_arr.shape[0]\n",
    "    else:\n",
    "        kmeans = KMeans(n_clusters=n, random_state=0).fit(pt_arr)\n",
    "        list_masks = [ kmeans.labels_ == i for i in range(n)]\n",
    "\n",
    "        j = 0\n",
    "        for mask in list_masks:\n",
    "            pt_mask = np.round(pt_arr[mask,:], 0).astype(np.int)\n",
    "            hist = np.sum(img[pt_mask[:,0], pt_mask[:,1]]) / np.sum(mask)\n",
    "            X_res[0,j] = hist\n",
    "            j += 1\n",
    "\n",
    "    return X_res"
   ]
  },
  {
   "cell_type": "code",
   "execution_count": 20,
   "metadata": {
    "pycharm": {
     "name": "#%%\n"
    }
   },
   "outputs": [],
   "source": [
    "cap = cv2.VideoCapture('test.mp4')\n",
    "\n",
    "if (cap.isOpened() == False):\n",
    "    print(\"Unable to read camera feed\")\n",
    "\n",
    "frame_width = int(cap.get(4))\n",
    "frame_height = int(cap.get(3))\n",
    "\n",
    "out = cv2.VideoWriter('scor_pin.avi',cv2.VideoWriter_fourcc('M','J','P','G'), 10, (frame_width,frame_height))\n",
    "\n",
    "while(True):\n",
    "    ret, frame = cap.read()\n",
    "\n",
    "    if ret == True:\n",
    "        frame = cv2.rotate(frame, cv2.ROTATE_90_CLOCKWISE)\n",
    "        X = compute_hist(frame)[np.newaxis, :, :]\n",
    "        class_object = np.argmax(model_scr_pin.predict(X))\n",
    "        position = (25, 350)\n",
    "        cv2.putText(frame, 'Class ' + str(class_object), position, cv2.FONT_HERSHEY_SIMPLEX, 2, (209, 80, 0, 255), 3)\n",
    "        out.write(frame)\n",
    "\n",
    "    else:\n",
    "        break\n",
    "\n",
    "cap.release()\n",
    "out.release()\n",
    "\n",
    "cv2.destroyAllWindows()"
   ]
  },
  {
   "cell_type": "code",
   "execution_count": 21,
   "metadata": {
    "pycharm": {
     "name": "#%%\n"
    }
   },
   "outputs": [],
   "source": [
    "cap = cv2.VideoCapture('test.mp4')\n",
    "\n",
    "if (cap.isOpened() == False):\n",
    "    print(\"Unable to read camera feed\")\n",
    "\n",
    "frame_width = int(cap.get(4))\n",
    "frame_height = int(cap.get(3))\n",
    "\n",
    "out = cv2.VideoWriter('scor_ban.avi',cv2.VideoWriter_fourcc('M','J','P','G'), 10, (frame_width,frame_height))\n",
    "\n",
    "while(True):\n",
    "    ret, frame = cap.read()\n",
    "\n",
    "    if ret == True:\n",
    "        frame = cv2.rotate(frame, cv2.ROTATE_90_CLOCKWISE)\n",
    "        X = compute_hist(frame)[np.newaxis, :, :]\n",
    "        class_object = np.argmax(model_scr_ban.predict(X))\n",
    "        position = (25, 350)\n",
    "        cv2.putText(frame, 'Class ' + str(class_object), position, cv2.FONT_HERSHEY_SIMPLEX, 2, (209, 80, 0, 255), 3)\n",
    "        out.write(frame)\n",
    "\n",
    "    else:\n",
    "        break\n",
    "\n",
    "cap.release()\n",
    "out.release()\n",
    "\n",
    "cv2.destroyAllWindows()"
   ]
  },
  {
   "cell_type": "code",
   "execution_count": 22,
   "metadata": {
    "pycharm": {
     "name": "#%%\n"
    }
   },
   "outputs": [
    {
     "name": "stdout",
     "output_type": "stream",
     "text": [
      "WARNING:tensorflow:From /home/petro/anaconda3/lib/python3.8/site-packages/tensorflow/python/training/tracking/tracking.py:111: Model.state_updates (from tensorflow.python.keras.engine.training) is deprecated and will be removed in a future version.\n",
      "Instructions for updating:\n",
      "This property should not be used in TensorFlow 2.0, as updates are applied automatically.\n",
      "WARNING:tensorflow:From /home/petro/anaconda3/lib/python3.8/site-packages/tensorflow/python/training/tracking/tracking.py:111: Layer.updates (from tensorflow.python.keras.engine.base_layer) is deprecated and will be removed in a future version.\n",
      "Instructions for updating:\n",
      "This property should not be used in TensorFlow 2.0, as updates are applied automatically.\n",
      "INFO:tensorflow:Assets written to: ./model_scr_pin/assets\n"
     ]
    }
   ],
   "source": [
    "model_scr_pin.save('./model_scr_pin')"
   ]
  },
  {
   "cell_type": "code",
   "execution_count": 23,
   "metadata": {
    "pycharm": {
     "name": "#%%\n"
    }
   },
   "outputs": [
    {
     "name": "stdout",
     "output_type": "stream",
     "text": [
      "INFO:tensorflow:Assets written to: ./model_scr_ban/assets\n"
     ]
    }
   ],
   "source": [
    "model_scr_ban.save('./model_scr_ban')"
   ]
  },
  {
   "cell_type": "code",
   "execution_count": 24,
   "metadata": {
    "pycharm": {
     "name": "#%%\n"
    }
   },
   "outputs": [
    {
     "name": "stdout",
     "output_type": "stream",
     "text": [
      "INFO:tensorflow:Assets written to: ./model_pin_ban/assets\n"
     ]
    }
   ],
   "source": [
    "model_pin_ban.save('./model_pin_ban')"
   ]
  },
  {
   "cell_type": "markdown",
   "metadata": {},
   "source": [
    "# SVM"
   ]
  },
  {
   "cell_type": "code",
   "execution_count": 25,
   "metadata": {
    "pycharm": {
     "name": "#%%\n"
    }
   },
   "outputs": [],
   "source": [
    "target_train_scr_pin = np.array(Y_train_scr_pin)\n",
    "target_train_scr_ban = np.array(Y_train_scr_ban)\n",
    "target_train_pin_ban = np.array(Y_train_pin_ban)"
   ]
  },
  {
   "cell_type": "code",
   "execution_count": 26,
   "metadata": {
    "pycharm": {
     "name": "#%%\n"
    }
   },
   "outputs": [
    {
     "data": {
      "text/plain": [
       "SVC(C=1, coef0=1e-06, gamma='auto', kernel='sigmoid')"
      ]
     },
     "execution_count": 26,
     "metadata": {},
     "output_type": "execute_result"
    }
   ],
   "source": [
    "svc_scr_pin = SVC(kernel='sigmoid', coef0=10**-6, C=1, gamma='auto')\n",
    "svc_scr_ban = SVC(kernel='sigmoid', coef0=10**-6, C=1, gamma='auto')\n",
    "svc_pin_ban = SVC(kernel='sigmoid', coef0=10**-6, C=1, gamma='auto')\n",
    "\n",
    "svc_scr_pin.fit(train_scr_pin, target_train_scr_pin)\n",
    "svc_scr_ban.fit(train_scr_ban, target_train_scr_ban)\n",
    "svc_pin_ban.fit(train_pin_ban, target_train_pin_ban)"
   ]
  },
  {
   "cell_type": "code",
   "execution_count": 27,
   "metadata": {
    "pycharm": {
     "name": "#%%\n"
    }
   },
   "outputs": [],
   "source": [
    "y_pred_scr_pin = svc_scr_pin.predict(test_scr_pin)\n",
    "\n",
    "y_pred_scr_ban = svc_scr_ban.predict(test_scr_ban)\n",
    "\n",
    "y_pred_pin_ban = svc_pin_ban.predict(test_pin_ban)"
   ]
  },
  {
   "cell_type": "code",
   "execution_count": 28,
   "metadata": {
    "pycharm": {
     "name": "#%%\n"
    }
   },
   "outputs": [
    {
     "name": "stderr",
     "output_type": "stream",
     "text": [
      "/home/petro/anaconda3/lib/python3.8/site-packages/sklearn/metrics/_classification.py:1221: UndefinedMetricWarning: Precision is ill-defined and being set to 0.0 due to no predicted samples. Use `zero_division` parameter to control this behavior.\n",
      "  _warn_prf(average, modifier, msg_start, len(result))\n"
     ]
    }
   ],
   "source": [
    "accuracy_scr_pin = recall_score(y_test_scr_pin, y_pred_scr_pin)\n",
    "accuracy_scr_ban = recall_score(y_test_scr_ban, y_pred_scr_ban)\n",
    "accuracy_pin_ban = recall_score(y_test_pin_ban, y_pred_pin_ban)\n",
    "\n",
    "recall_scr_pin = recall_score(y_test_scr_pin, y_pred_scr_pin)\n",
    "recall_scr_ban = recall_score(y_test_scr_ban, y_pred_scr_ban)\n",
    "recall_pin_ban = recall_score(y_test_pin_ban, y_pred_pin_ban)\n",
    "\n",
    "precision_scr_pin = precision_score(y_test_scr_pin, y_pred_scr_pin)\n",
    "precision_scr_ban = precision_score(y_test_scr_ban, y_pred_scr_ban)\n",
    "precision_pin_ban = precision_score(y_test_pin_ban, y_pred_pin_ban)\n",
    "\n",
    "f1_scr_pin = f1_score(y_test_scr_pin, y_pred_scr_pin)\n",
    "f1_scr_ban = f1_score(y_test_scr_ban, y_pred_scr_ban)\n",
    "f1_pin_ban = f1_score(y_test_pin_ban, y_pred_pin_ban)\n",
    "\n",
    "confusion_matrix_scr_pin = pd.DataFrame(confusion_matrix(y_test_scr_pin, y_pred_scr_pin))\n",
    "confusion_matrix_scr_ban = pd.DataFrame(confusion_matrix(y_test_scr_ban, y_pred_scr_ban))\n",
    "confusion_matrix_pin_ban = pd.DataFrame(confusion_matrix(y_test_pin_ban, y_pred_pin_ban))"
   ]
  },
  {
   "cell_type": "code",
   "execution_count": 29,
   "metadata": {
    "pycharm": {
     "name": "#%%\n"
    }
   },
   "outputs": [
    {
     "name": "stdout",
     "output_type": "stream",
     "text": [
      "Scorpions Pinginus\n",
      "accuracy: 0.05952380952380952\n",
      "recall: 0.05952380952380952\n",
      "precission: 0.625\n",
      "f1: 0.10869565217391304\n"
     ]
    },
    {
     "data": {
      "text/plain": [
       "<matplotlib.axes._subplots.AxesSubplot at 0x7f3d58abd340>"
      ]
     },
     "execution_count": 29,
     "metadata": {},
     "output_type": "execute_result"
    },
    {
     "data": {
      "image/png": "[encoded data removed]",
      "text/plain": [
       "<Figure size 432x288 with 2 Axes>"
      ]
     },
     "metadata": {},
     "output_type": "display_data"
    }
   ],
   "source": [
    "print('Scorpions Pinginus')\n",
    "print(f'accuracy: {accuracy_scr_pin}')\n",
    "print(f'recall: {recall_scr_pin}')\n",
    "print(f'precission: {precision_scr_pin}')\n",
    "print(f'f1: {f1_scr_pin}')\n",
    "\n",
    "sn.set(font_scale=1.4)\n",
    "sn.heatmap(confusion_matrix_scr_pin, annot=True, annot_kws={'size': 16})\n"
   ]
  },
  {
   "cell_type": "code",
   "execution_count": 30,
   "metadata": {
    "pycharm": {
     "name": "#%%\n"
    }
   },
   "outputs": [
    {
     "name": "stdout",
     "output_type": "stream",
     "text": [
      "Scorpions Bananka\n",
      "accuracy: 0.0\n",
      "recall: 0.0\n",
      "precission: 0.0\n",
      "f1: 0.0\n"
     ]
    },
    {
     "data": {
      "text/plain": [
       "<matplotlib.axes._subplots.AxesSubplot at 0x7f3d7dc2ee20>"
      ]
     },
     "execution_count": 30,
     "metadata": {},
     "output_type": "execute_result"
    },
    {
     "data": {
      "image/png": "[encoded data removed]",
      "text/plain": [
       "<Figure size 432x288 with 2 Axes>"
      ]
     },
     "metadata": {},
     "output_type": "display_data"
    }
   ],
   "source": [
    "print('Scorpions Bananka')\n",
    "print(f'accuracy: {accuracy_scr_ban}')\n",
    "print(f'recall: {recall_scr_ban}')\n",
    "print(f'precission: {precision_scr_ban}')\n",
    "print(f'f1: {f1_scr_ban}')\n",
    "\n",
    "sn.set(font_scale=1.4)\n",
    "sn.heatmap(confusion_matrix_scr_ban, annot=True, annot_kws={'size': 16})"
   ]
  },
  {
   "cell_type": "code",
   "execution_count": 31,
   "metadata": {
    "pycharm": {
     "name": "#%%\n"
    }
   },
   "outputs": [
    {
     "name": "stdout",
     "output_type": "stream",
     "text": [
      "Pinginus Bananka\n",
      "accuracy: 0.9651162790697675\n",
      "recall: 0.9651162790697675\n",
      "precission: 0.49700598802395207\n",
      "f1: 0.6561264822134388\n"
     ]
    },
    {
     "data": {
      "text/plain": [
       "<matplotlib.axes._subplots.AxesSubplot at 0x7f3d5a570220>"
      ]
     },
     "execution_count": 31,
     "metadata": {},
     "output_type": "execute_result"
    },
    {
     "data": {
      "image/png": "[encoded data removed]",
      "text/plain": [
       "<Figure size 432x288 with 2 Axes>"
      ]
     },
     "metadata": {},
     "output_type": "display_data"
    }
   ],
   "source": [
    "print('Pinginus Bananka')\n",
    "print(f'accuracy: {accuracy_pin_ban}')\n",
    "print(f'recall: {recall_pin_ban}')\n",
    "print(f'precission: {precision_pin_ban}')\n",
    "print(f'f1: {f1_pin_ban}')\n",
    "\n",
    "sn.set(font_scale=1.4)\n",
    "sn.heatmap(confusion_matrix_pin_ban, annot=True, annot_kws={'size': 16})"
   ]
  },
  {
   "cell_type": "code",
   "execution_count": 32,
   "metadata": {
    "pycharm": {
     "name": "#%%\n"
    }
   },
   "outputs": [],
   "source": [
    "cap = cv2.VideoCapture('test.mp4')\n",
    "\n",
    "if (cap.isOpened() == False):\n",
    "    print(\"Unable to read camera feed\")\n",
    "\n",
    "frame_width = int(cap.get(4))\n",
    "frame_height = int(cap.get(3))\n",
    "\n",
    "out = cv2.VideoWriter('scor_pin_svm.avi',cv2.VideoWriter_fourcc('M','J','P','G'), 10, (frame_width,frame_height))\n",
    "\n",
    "while(True):\n",
    "    ret, frame = cap.read()\n",
    "\n",
    "    if ret == True:\n",
    "        frame = cv2.rotate(frame, cv2.ROTATE_90_CLOCKWISE)\n",
    "        X = compute_hist(frame)\n",
    "        class_object = svc_scr_pin.predict(X)\n",
    "        position = (25, 350)\n",
    "        cv2.putText(frame, 'Class ' + str(class_object), position, cv2.FONT_HERSHEY_SIMPLEX, 2, (209, 80, 0, 255), 3)\n",
    "        out.write(frame)\n",
    "\n",
    "    else:\n",
    "        break\n",
    "\n",
    "cap.release()\n",
    "out.release()\n",
    "\n",
    "cv2.destroyAllWindows()"
   ]
  },
  {
   "cell_type": "code",
   "execution_count": 33,
   "metadata": {
    "pycharm": {
     "name": "#%%\n"
    }
   },
   "outputs": [],
   "source": [
    "cap = cv2.VideoCapture('test.mp4')\n",
    "\n",
    "if (cap.isOpened() == False):\n",
    "    print(\"Unable to read camera feed\")\n",
    "\n",
    "frame_width = int(cap.get(4))\n",
    "frame_height = int(cap.get(3))\n",
    "\n",
    "out = cv2.VideoWriter('scor_ban_svm.avi',cv2.VideoWriter_fourcc('M','J','P','G'), 10, (frame_width,frame_height))\n",
    "\n",
    "while(True):\n",
    "    ret, frame = cap.read()\n",
    "\n",
    "    if ret == True:\n",
    "        frame = cv2.rotate(frame, cv2.ROTATE_90_CLOCKWISE)\n",
    "        X = compute_hist(frame)\n",
    "        class_object = svc_scr_ban.predict(X)\n",
    "        position = (25, 350)\n",
    "        cv2.putText(frame, 'Class ' + str(class_object), position, cv2.FONT_HERSHEY_SIMPLEX, 2, (209, 80, 0, 255), 3)\n",
    "        out.write(frame)\n",
    "\n",
    "    else:\n",
    "        break\n",
    "\n",
    "cap.release()\n",
    "out.release()\n",
    "\n",
    "cv2.destroyAllWindows()"
   ]
  },
  {
   "cell_type": "markdown",
   "metadata": {},
   "source": [
    "# DecissionTree"
   ]
  },
  {
   "cell_type": "code",
   "execution_count": 34,
   "metadata": {
    "pycharm": {
     "name": "#%%\n"
    }
   },
   "outputs": [],
   "source": [
    "target_train_scr_pin = np.array(Y_train_scr_pin)\n",
    "target_train_scr_ban = np.array(Y_train_scr_ban)\n",
    "target_train_pin_ban = np.array(Y_train_pin_ban)"
   ]
  },
  {
   "cell_type": "code",
   "execution_count": 35,
   "metadata": {
    "pycharm": {
     "name": "#%%\n"
    }
   },
   "outputs": [
    {
     "data": {
      "text/plain": [
       "DecisionTreeClassifier()"
      ]
     },
     "execution_count": 35,
     "metadata": {},
     "output_type": "execute_result"
    }
   ],
   "source": [
    "tree_scr_pin = DecisionTreeClassifier()\n",
    "tree_scr_ban = DecisionTreeClassifier()\n",
    "tree_pin_ban = DecisionTreeClassifier()\n",
    "\n",
    "tree_scr_pin.fit(train_scr_pin, target_train_scr_pin)\n",
    "tree_scr_ban.fit(train_scr_ban, target_train_scr_ban)\n",
    "tree_pin_ban.fit(train_pin_ban, target_train_pin_ban)"
   ]
  },
  {
   "cell_type": "code",
   "execution_count": 36,
   "metadata": {
    "pycharm": {
     "name": "#%%\n"
    }
   },
   "outputs": [],
   "source": [
    "y_pred_scr_pin = tree_scr_pin.predict(test_scr_pin)\n",
    "\n",
    "y_pred_scr_ban = tree_scr_ban.predict(test_scr_ban)\n",
    "\n",
    "y_pred_pin_ban = tree_pin_ban.predict(test_pin_ban)"
   ]
  },
  {
   "cell_type": "code",
   "execution_count": 37,
   "metadata": {
    "pycharm": {
     "name": "#%%\n"
    }
   },
   "outputs": [],
   "source": [
    "accuracy_scr_pin = recall_score(y_test_scr_pin, y_pred_scr_pin)\n",
    "accuracy_scr_ban = recall_score(y_test_scr_ban, y_pred_scr_ban)\n",
    "accuracy_pin_ban = recall_score(y_test_pin_ban, y_pred_pin_ban)\n",
    "\n",
    "recall_scr_pin = recall_score(y_test_scr_pin, y_pred_scr_pin)\n",
    "recall_scr_ban = recall_score(y_test_scr_ban, y_pred_scr_ban)\n",
    "recall_pin_ban = recall_score(y_test_pin_ban, y_pred_pin_ban)\n",
    "\n",
    "precision_scr_pin = precision_score(y_test_scr_pin, y_pred_scr_pin)\n",
    "precision_scr_ban = precision_score(y_test_scr_ban, y_pred_scr_ban)\n",
    "precision_pin_ban = precision_score(y_test_pin_ban, y_pred_pin_ban)\n",
    "\n",
    "f1_scr_pin = f1_score(y_test_scr_pin, y_pred_scr_pin)\n",
    "f1_scr_ban = f1_score(y_test_scr_ban, y_pred_scr_ban)\n",
    "f1_pin_ban = f1_score(y_test_pin_ban, y_pred_pin_ban)\n",
    "\n",
    "confusion_matrix_scr_pin = pd.DataFrame(confusion_matrix(y_test_scr_pin, y_pred_scr_pin))\n",
    "confusion_matrix_scr_ban = pd.DataFrame(confusion_matrix(y_test_scr_ban, y_pred_scr_ban))\n",
    "confusion_matrix_pin_ban = pd.DataFrame(confusion_matrix(y_test_pin_ban, y_pred_pin_ban))"
   ]
  },
  {
   "cell_type": "code",
   "execution_count": 38,
   "metadata": {
    "pycharm": {
     "name": "#%%\n"
    }
   },
   "outputs": [
    {
     "name": "stdout",
     "output_type": "stream",
     "text": [
      "Scorpions Pinginus\n",
      "accuracy: 0.5476190476190477\n",
      "recall: 0.5476190476190477\n",
      "precission: 0.5227272727272727\n",
      "f1: 0.5348837209302325\n"
     ]
    },
    {
     "data": {
      "text/plain": [
       "<matplotlib.axes._subplots.AxesSubplot at 0x7f3d59cc7940>"
      ]
     },
     "execution_count": 38,
     "metadata": {},
     "output_type": "execute_result"
    },
    {
     "data": {
      "image/png": "[encoded data removed]",
      "text/plain": [
       "<Figure size 432x288 with 2 Axes>"
      ]
     },
     "metadata": {},
     "output_type": "display_data"
    }
   ],
   "source": [
    "print('Scorpions Pinginus')\n",
    "print(f'accuracy: {accuracy_scr_pin}')\n",
    "print(f'recall: {recall_scr_pin}')\n",
    "print(f'precission: {precision_scr_pin}')\n",
    "print(f'f1: {f1_scr_pin}')\n",
    "\n",
    "sn.set(font_scale=1.4)\n",
    "sn.heatmap(confusion_matrix_scr_pin, annot=True, annot_kws={'size': 16})\n"
   ]
  },
  {
   "cell_type": "code",
   "execution_count": 39,
   "metadata": {
    "pycharm": {
     "name": "#%%\n"
    }
   },
   "outputs": [
    {
     "name": "stdout",
     "output_type": "stream",
     "text": [
      "Scorpions Bananka\n",
      "accuracy: 0.5465116279069767\n",
      "recall: 0.5465116279069767\n",
      "precission: 0.6103896103896104\n",
      "f1: 0.5766871165644172\n"
     ]
    },
    {
     "data": {
      "text/plain": [
       "<matplotlib.axes._subplots.AxesSubplot at 0x7f3d59755b20>"
      ]
     },
     "execution_count": 39,
     "metadata": {},
     "output_type": "execute_result"
    },
    {
     "data": {
      "image/png": "[encoded data removed]",
      "text/plain": [
       "<Figure size 432x288 with 2 Axes>"
      ]
     },
     "metadata": {},
     "output_type": "display_data"
    }
   ],
   "source": [
    "print('Scorpions Bananka')\n",
    "print(f'accuracy: {accuracy_scr_ban}')\n",
    "print(f'recall: {recall_scr_ban}')\n",
    "print(f'precission: {precision_scr_ban}')\n",
    "print(f'f1: {f1_scr_ban}')\n",
    "\n",
    "sn.set(font_scale=1.4)\n",
    "sn.heatmap(confusion_matrix_scr_ban, annot=True, annot_kws={'size': 16})"
   ]
  },
  {
   "cell_type": "code",
   "execution_count": 40,
   "metadata": {
    "pycharm": {
     "name": "#%%\n"
    }
   },
   "outputs": [
    {
     "name": "stdout",
     "output_type": "stream",
     "text": [
      "Pinginus Bananka\n",
      "accuracy: 0.6046511627906976\n",
      "recall: 0.6046511627906976\n",
      "precission: 0.6265060240963856\n",
      "f1: 0.6153846153846154\n"
     ]
    },
    {
     "data": {
      "text/plain": [
       "<matplotlib.axes._subplots.AxesSubplot at 0x7f3d59753100>"
      ]
     },
     "execution_count": 40,
     "metadata": {},
     "output_type": "execute_result"
    },
    {
     "data": {
      "image/png": "[encoded data removed]",
      "text/plain": [
       "<Figure size 432x288 with 2 Axes>"
      ]
     },
     "metadata": {},
     "output_type": "display_data"
    }
   ],
   "source": [
    "print('Pinginus Bananka')\n",
    "print(f'accuracy: {accuracy_pin_ban}')\n",
    "print(f'recall: {recall_pin_ban}')\n",
    "print(f'precission: {precision_pin_ban}')\n",
    "print(f'f1: {f1_pin_ban}')\n",
    "\n",
    "sn.set(font_scale=1.4)\n",
    "sn.heatmap(confusion_matrix_pin_ban, annot=True, annot_kws={'size': 16})"
   ]
  },
  {
   "cell_type": "code",
   "execution_count": 41,
   "metadata": {
    "pycharm": {
     "name": "#%%\n"
    }
   },
   "outputs": [],
   "source": [
    "cap = cv2.VideoCapture('test.mp4')\n",
    "\n",
    "if (cap.isOpened() == False):\n",
    "    print(\"Unable to read camera feed\")\n",
    "\n",
    "frame_width = int(cap.get(4))\n",
    "frame_height = int(cap.get(3))\n",
    "\n",
    "out = cv2.VideoWriter('scor_pin_svm.avi',cv2.VideoWriter_fourcc('M','J','P','G'), 10, (frame_width,frame_height))\n",
    "\n",
    "while(True):\n",
    "    ret, frame = cap.read()\n",
    "\n",
    "    if ret == True:\n",
    "        frame = cv2.rotate(frame, cv2.ROTATE_90_CLOCKWISE)\n",
    "        X = compute_hist(frame)\n",
    "        class_object = tree_scr_pin.predict(X)\n",
    "        position = (25, 350)\n",
    "        cv2.putText(frame, 'Class ' + str(class_object), position, cv2.FONT_HERSHEY_SIMPLEX, 2, (209, 80, 0, 255), 3)\n",
    "        out.write(frame)\n",
    "\n",
    "    else:\n",
    "        break\n",
    "\n",
    "cap.release()\n",
    "out.release()\n",
    "\n",
    "cv2.destroyAllWindows()"
   ]
  },
  {
   "cell_type": "code",
   "execution_count": 42,
   "metadata": {
    "pycharm": {
     "name": "#%%\n"
    }
   },
   "outputs": [],
   "source": [
    "cap = cv2.VideoCapture('test.mp4')\n",
    "\n",
    "if (cap.isOpened() == False):\n",
    "    print(\"Unable to read camera feed\")\n",
    "\n",
    "frame_width = int(cap.get(4))\n",
    "frame_height = int(cap.get(3))\n",
    "\n",
    "out = cv2.VideoWriter('scor_ban_svm.avi',cv2.VideoWriter_fourcc('M','J','P','G'), 10, (frame_width,frame_height))\n",
    "\n",
    "while(True):\n",
    "    ret, frame = cap.read()\n",
    "\n",
    "    if ret == True:\n",
    "        frame = cv2.rotate(frame, cv2.ROTATE_90_CLOCKWISE)\n",
    "        X = compute_hist(frame)\n",
    "        class_object = tree_scr_ban.predict(X)\n",
    "        position = (25, 350)\n",
    "        cv2.putText(frame, 'Class ' + str(class_object), position, cv2.FONT_HERSHEY_SIMPLEX, 2, (209, 80, 0, 255), 3)\n",
    "        out.write(frame)\n",
    "\n",
    "    else:\n",
    "        break\n",
    "\n",
    "cap.release()\n",
    "out.release()\n",
    "\n",
    "cv2.destroyAllWindows()"
   ]
  },
  {
   "cell_type": "markdown",
   "metadata": {
    "pycharm": {
     "name": "#%%\n"
    }
   },
   "source": [
    "# Time"
   ]
  },
  {
   "cell_type": "code",
   "execution_count": 48,
   "metadata": {},
   "outputs": [],
   "source": [
    "import time"
   ]
  },
  {
   "cell_type": "markdown",
   "metadata": {},
   "source": [
    "### model_scr_pin"
   ]
  },
  {
   "cell_type": "code",
   "execution_count": 86,
   "metadata": {},
   "outputs": [
    {
     "name": "stdout",
     "output_type": "stream",
     "text": [
      "(170, 1, 8)\n",
      "Time: 18.30785608291626\n",
      "Average: 0.107693271075978\n"
     ]
    }
   ],
   "source": [
    "start = time.time()\n",
    "\n",
    "test_scr_pin = compute_data(X_test_scr_pin)\n",
    "X_test_scr_pin_arr = test_scr_pin[:,np.newaxis, :]\n",
    "print(X_test_scr_pin_arr.shape)\n",
    "model_scr_pin.predict(X_test_scr_pin_arr)\n",
    "end = time.time()\n",
    "print(f'Time: {end-start}')\n",
    "print(f'Average: {(end - start) / len(X_test_scr_pin)}')"
   ]
  },
  {
   "cell_type": "markdown",
   "metadata": {},
   "source": [
    "### model_scr_ban"
   ]
  },
  {
   "cell_type": "code",
   "execution_count": 87,
   "metadata": {},
   "outputs": [
    {
     "name": "stdout",
     "output_type": "stream",
     "text": [
      "(165, 1, 8)\n",
      "Time: 18.301521062850952\n",
      "Average: 0.10765600625206442\n"
     ]
    }
   ],
   "source": [
    "start = time.time()\n",
    "\n",
    "test_scr_ban = compute_data(X_test_scr_ban)\n",
    "X_test_scr_ban_arr = test_scr_ban[:,np.newaxis, :]\n",
    "print(X_test_scr_ban_arr.shape)\n",
    "model_scr_ban.predict(X_test_scr_ban_arr)\n",
    "end = time.time()\n",
    "print(f'Time: {end-start}')\n",
    "print(f'Average: {(end - start) / len(X_test_scr_pin)}')"
   ]
  },
  {
   "cell_type": "markdown",
   "metadata": {},
   "source": [
    "### model_pin_ban"
   ]
  },
  {
   "cell_type": "code",
   "execution_count": 88,
   "metadata": {},
   "outputs": [
    {
     "name": "stdout",
     "output_type": "stream",
     "text": [
      "(165, 1, 8)\n",
      "Time: 22.763827562332153\n",
      "Average: 0.13390486801371854\n"
     ]
    }
   ],
   "source": [
    "start = time.time()\n",
    "test_pin_ban = compute_data(X_test_pin_ban)\n",
    "X_test_pin_ban_arr = test_pin_ban[:,np.newaxis, :]\n",
    "print(X_test_scr_ban_arr.shape)\n",
    "model_pin_ban.predict(X_test_pin_ban_arr)\n",
    "end = time.time()\n",
    "print(f'Time: {end-start}')\n",
    "print(f'Average: {(end - start) / len(X_test_scr_pin)}')"
   ]
  },
  {
   "cell_type": "markdown",
   "metadata": {},
   "source": [
    "### svc_scr_pin"
   ]
  },
  {
   "cell_type": "code",
   "execution_count": 89,
   "metadata": {},
   "outputs": [
    {
     "name": "stdout",
     "output_type": "stream",
     "text": [
      "(170, 8)\n",
      "Time: 22.302806854248047\n",
      "Average: 0.13119298149557673\n"
     ]
    }
   ],
   "source": [
    "start = time.time()\n",
    "test_scr_pin = compute_data(X_test_scr_pin)\n",
    "print(np.array(test_scr_pin).shape)\n",
    "svc_scr_pin.predict(test_scr_pin)\n",
    "end = time.time()\n",
    "print(f'Time: {end-start}')\n",
    "print(f'Average: {(end - start) / len(X_test_scr_pin)}')"
   ]
  },
  {
   "cell_type": "markdown",
   "metadata": {},
   "source": [
    "### svc_scr_ban"
   ]
  },
  {
   "cell_type": "code",
   "execution_count": 90,
   "metadata": {},
   "outputs": [
    {
     "name": "stdout",
     "output_type": "stream",
     "text": [
      "(165, 8)\n",
      "Time: 21.804858684539795\n",
      "Average: 0.12826387461493996\n"
     ]
    }
   ],
   "source": [
    "start = time.time()\n",
    "test_scr_ban = compute_data(X_test_scr_ban)\n",
    "print(np.array(test_scr_ban).shape)\n",
    "svc_scr_ban.predict(test_scr_ban)\n",
    "end = time.time()\n",
    "print(f'Time: {end-start}')\n",
    "print(f'Average: {(end - start) / len(X_test_scr_pin)}')"
   ]
  },
  {
   "cell_type": "markdown",
   "metadata": {},
   "source": [
    "### svc_pin_ban"
   ]
  },
  {
   "cell_type": "code",
   "execution_count": 91,
   "metadata": {},
   "outputs": [
    {
     "name": "stdout",
     "output_type": "stream",
     "text": [
      "(170, 8)\n",
      "Time: 23.680336952209473\n",
      "Average: 0.13929609971887924\n"
     ]
    }
   ],
   "source": [
    "start = time.time()\n",
    "test_pin_ban = compute_data(X_test_pin_ban)\n",
    "print(np.array(test_pin_ban).shape)\n",
    "svc_pin_ban.predict(test_pin_ban)\n",
    "end = time.time()\n",
    "print(f'Time: {end-start}')\n",
    "print(f'Average: {(end - start) / len(X_test_scr_pin)}')"
   ]
  },
  {
   "cell_type": "markdown",
   "metadata": {},
   "source": [
    "### tree_scr_pin"
   ]
  },
  {
   "cell_type": "code",
   "execution_count": 92,
   "metadata": {},
   "outputs": [
    {
     "name": "stdout",
     "output_type": "stream",
     "text": [
      "(170, 8)\n",
      "Time: 20.7297260761261\n",
      "Average: 0.12193956515368293\n"
     ]
    }
   ],
   "source": [
    "start = time.time()\n",
    "test_scr_pin = compute_data(X_test_scr_pin)\n",
    "print(np.array(test_scr_pin).shape)\n",
    "tree_scr_pin.predict(test_scr_pin)\n",
    "end = time.time()\n",
    "print(f'Time: {end-start}')\n",
    "print(f'Average: {(end - start) / len(X_test_scr_pin)}')"
   ]
  },
  {
   "cell_type": "markdown",
   "metadata": {},
   "source": [
    "### tree_scr_ban"
   ]
  },
  {
   "cell_type": "code",
   "execution_count": 93,
   "metadata": {},
   "outputs": [
    {
     "name": "stdout",
     "output_type": "stream",
     "text": [
      "(165, 8)\n",
      "Time: 21.570936918258667\n",
      "Average: 0.126887864225051\n"
     ]
    }
   ],
   "source": [
    "start = time.time()\n",
    "test_scr_ban = compute_data(X_test_scr_ban)\n",
    "print(np.array(test_scr_ban).shape)\n",
    "tree_scr_ban.predict(test_scr_ban)\n",
    "end = time.time()\n",
    "print(f'Time: {end-start}')\n",
    "print(f'Average: {(end - start) / len(X_test_scr_pin)}')"
   ]
  },
  {
   "cell_type": "markdown",
   "metadata": {},
   "source": [
    "### tree_pin_ban"
   ]
  },
  {
   "cell_type": "code",
   "execution_count": 94,
   "metadata": {},
   "outputs": [
    {
     "name": "stdout",
     "output_type": "stream",
     "text": [
      "(170, 8)\n",
      "Time: 23.309866428375244\n",
      "Average: 0.1371168613433838\n"
     ]
    }
   ],
   "source": [
    "start = time.time()\n",
    "test_pin_ban = compute_data(X_test_pin_ban)\n",
    "print(np.array(test_pin_ban).shape)\n",
    "tree_pin_ban.predict(test_pin_ban)\n",
    "end = time.time()\n",
    "print(f'Time: {end-start}')\n",
    "print(f'Average: {(end - start) / len(X_test_scr_pin)}')"
   ]
  },
  {
   "cell_type": "code",
   "execution_count": null,
   "metadata": {},
   "outputs": [],
   "source": []
  }
 ],
 "metadata": {
  "kernelspec": {
   "display_name": "Python 3",
   "language": "python",
   "name": "python3"
  },
  "language_info": {
   "codemirror_mode": {
    "name": "ipython",
    "version": 3
   },
   "file_extension": ".py",
   "mimetype": "text/x-python",
   "name": "python",
   "nbconvert_exporter": "python",
   "pygments_lexer": "ipython3",
   "version": "3.8.3"
  }
 },
 "nbformat": 4,
 "nbformat_minor": 1
}
